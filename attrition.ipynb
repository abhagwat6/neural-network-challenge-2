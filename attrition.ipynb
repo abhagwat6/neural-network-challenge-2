{
  "cells": [
    {
      "cell_type": "markdown",
      "metadata": {
        "id": "alIIEHibGc3M"
      },
      "source": [
        "## Part 1: Preprocessing"
      ]
    },
    {
      "cell_type": "code",
      "execution_count": 33,
      "metadata": {
        "colab": {
          "base_uri": "https://localhost:8080/",
          "height": 325
        },
        "id": "6eDUJ4NtGc3P",
        "outputId": "2480098c-135c-4cbf-9552-018494ee8ff5"
      },
      "outputs": [
        {
          "data": {
            "text/html": [
              "<div>\n",
              "<style scoped>\n",
              "    .dataframe tbody tr th:only-of-type {\n",
              "        vertical-align: middle;\n",
              "    }\n",
              "\n",
              "    .dataframe tbody tr th {\n",
              "        vertical-align: top;\n",
              "    }\n",
              "\n",
              "    .dataframe thead th {\n",
              "        text-align: right;\n",
              "    }\n",
              "</style>\n",
              "<table border=\"1\" class=\"dataframe\">\n",
              "  <thead>\n",
              "    <tr style=\"text-align: right;\">\n",
              "      <th></th>\n",
              "      <th>Age</th>\n",
              "      <th>Attrition</th>\n",
              "      <th>BusinessTravel</th>\n",
              "      <th>Department</th>\n",
              "      <th>DistanceFromHome</th>\n",
              "      <th>Education</th>\n",
              "      <th>EducationField</th>\n",
              "      <th>EnvironmentSatisfaction</th>\n",
              "      <th>HourlyRate</th>\n",
              "      <th>JobInvolvement</th>\n",
              "      <th>...</th>\n",
              "      <th>PerformanceRating</th>\n",
              "      <th>RelationshipSatisfaction</th>\n",
              "      <th>StockOptionLevel</th>\n",
              "      <th>TotalWorkingYears</th>\n",
              "      <th>TrainingTimesLastYear</th>\n",
              "      <th>WorkLifeBalance</th>\n",
              "      <th>YearsAtCompany</th>\n",
              "      <th>YearsInCurrentRole</th>\n",
              "      <th>YearsSinceLastPromotion</th>\n",
              "      <th>YearsWithCurrManager</th>\n",
              "    </tr>\n",
              "  </thead>\n",
              "  <tbody>\n",
              "    <tr>\n",
              "      <th>0</th>\n",
              "      <td>41</td>\n",
              "      <td>Yes</td>\n",
              "      <td>Travel_Rarely</td>\n",
              "      <td>Sales</td>\n",
              "      <td>1</td>\n",
              "      <td>2</td>\n",
              "      <td>Life Sciences</td>\n",
              "      <td>2</td>\n",
              "      <td>94</td>\n",
              "      <td>3</td>\n",
              "      <td>...</td>\n",
              "      <td>3</td>\n",
              "      <td>1</td>\n",
              "      <td>0</td>\n",
              "      <td>8</td>\n",
              "      <td>0</td>\n",
              "      <td>1</td>\n",
              "      <td>6</td>\n",
              "      <td>4</td>\n",
              "      <td>0</td>\n",
              "      <td>5</td>\n",
              "    </tr>\n",
              "    <tr>\n",
              "      <th>1</th>\n",
              "      <td>49</td>\n",
              "      <td>No</td>\n",
              "      <td>Travel_Frequently</td>\n",
              "      <td>Research &amp; Development</td>\n",
              "      <td>8</td>\n",
              "      <td>1</td>\n",
              "      <td>Life Sciences</td>\n",
              "      <td>3</td>\n",
              "      <td>61</td>\n",
              "      <td>2</td>\n",
              "      <td>...</td>\n",
              "      <td>4</td>\n",
              "      <td>4</td>\n",
              "      <td>1</td>\n",
              "      <td>10</td>\n",
              "      <td>3</td>\n",
              "      <td>3</td>\n",
              "      <td>10</td>\n",
              "      <td>7</td>\n",
              "      <td>1</td>\n",
              "      <td>7</td>\n",
              "    </tr>\n",
              "    <tr>\n",
              "      <th>2</th>\n",
              "      <td>37</td>\n",
              "      <td>Yes</td>\n",
              "      <td>Travel_Rarely</td>\n",
              "      <td>Research &amp; Development</td>\n",
              "      <td>2</td>\n",
              "      <td>2</td>\n",
              "      <td>Other</td>\n",
              "      <td>4</td>\n",
              "      <td>92</td>\n",
              "      <td>2</td>\n",
              "      <td>...</td>\n",
              "      <td>3</td>\n",
              "      <td>2</td>\n",
              "      <td>0</td>\n",
              "      <td>7</td>\n",
              "      <td>3</td>\n",
              "      <td>3</td>\n",
              "      <td>0</td>\n",
              "      <td>0</td>\n",
              "      <td>0</td>\n",
              "      <td>0</td>\n",
              "    </tr>\n",
              "    <tr>\n",
              "      <th>3</th>\n",
              "      <td>33</td>\n",
              "      <td>No</td>\n",
              "      <td>Travel_Frequently</td>\n",
              "      <td>Research &amp; Development</td>\n",
              "      <td>3</td>\n",
              "      <td>4</td>\n",
              "      <td>Life Sciences</td>\n",
              "      <td>4</td>\n",
              "      <td>56</td>\n",
              "      <td>3</td>\n",
              "      <td>...</td>\n",
              "      <td>3</td>\n",
              "      <td>3</td>\n",
              "      <td>0</td>\n",
              "      <td>8</td>\n",
              "      <td>3</td>\n",
              "      <td>3</td>\n",
              "      <td>8</td>\n",
              "      <td>7</td>\n",
              "      <td>3</td>\n",
              "      <td>0</td>\n",
              "    </tr>\n",
              "    <tr>\n",
              "      <th>4</th>\n",
              "      <td>27</td>\n",
              "      <td>No</td>\n",
              "      <td>Travel_Rarely</td>\n",
              "      <td>Research &amp; Development</td>\n",
              "      <td>2</td>\n",
              "      <td>1</td>\n",
              "      <td>Medical</td>\n",
              "      <td>1</td>\n",
              "      <td>40</td>\n",
              "      <td>3</td>\n",
              "      <td>...</td>\n",
              "      <td>3</td>\n",
              "      <td>4</td>\n",
              "      <td>1</td>\n",
              "      <td>6</td>\n",
              "      <td>3</td>\n",
              "      <td>3</td>\n",
              "      <td>2</td>\n",
              "      <td>2</td>\n",
              "      <td>2</td>\n",
              "      <td>2</td>\n",
              "    </tr>\n",
              "  </tbody>\n",
              "</table>\n",
              "<p>5 rows × 27 columns</p>\n",
              "</div>"
            ],
            "text/plain": [
              "   Age Attrition     BusinessTravel              Department  DistanceFromHome  \\\n",
              "0   41       Yes      Travel_Rarely                   Sales                 1   \n",
              "1   49        No  Travel_Frequently  Research & Development                 8   \n",
              "2   37       Yes      Travel_Rarely  Research & Development                 2   \n",
              "3   33        No  Travel_Frequently  Research & Development                 3   \n",
              "4   27        No      Travel_Rarely  Research & Development                 2   \n",
              "\n",
              "   Education EducationField  EnvironmentSatisfaction  HourlyRate  \\\n",
              "0          2  Life Sciences                        2          94   \n",
              "1          1  Life Sciences                        3          61   \n",
              "2          2          Other                        4          92   \n",
              "3          4  Life Sciences                        4          56   \n",
              "4          1        Medical                        1          40   \n",
              "\n",
              "   JobInvolvement  ...  PerformanceRating RelationshipSatisfaction  \\\n",
              "0               3  ...                  3                        1   \n",
              "1               2  ...                  4                        4   \n",
              "2               2  ...                  3                        2   \n",
              "3               3  ...                  3                        3   \n",
              "4               3  ...                  3                        4   \n",
              "\n",
              "   StockOptionLevel TotalWorkingYears  TrainingTimesLastYear WorkLifeBalance  \\\n",
              "0                 0                 8                      0               1   \n",
              "1                 1                10                      3               3   \n",
              "2                 0                 7                      3               3   \n",
              "3                 0                 8                      3               3   \n",
              "4                 1                 6                      3               3   \n",
              "\n",
              "   YearsAtCompany  YearsInCurrentRole  YearsSinceLastPromotion  \\\n",
              "0               6                   4                        0   \n",
              "1              10                   7                        1   \n",
              "2               0                   0                        0   \n",
              "3               8                   7                        3   \n",
              "4               2                   2                        2   \n",
              "\n",
              "   YearsWithCurrManager  \n",
              "0                     5  \n",
              "1                     7  \n",
              "2                     0  \n",
              "3                     0  \n",
              "4                     2  \n",
              "\n",
              "[5 rows x 27 columns]"
            ]
          },
          "execution_count": 33,
          "metadata": {},
          "output_type": "execute_result"
        }
      ],
      "source": [
        "# Import our dependencies\n",
        "from sklearn.model_selection import train_test_split\n",
        "from sklearn.preprocessing import StandardScaler\n",
        "import pandas as pd\n",
        "import numpy as np\n",
        "from tensorflow.keras.models import Model\n",
        "from tensorflow.keras import layers\n",
        "\n",
        "#  Import and read the attrition data\n",
        "attrition_df = pd.read_csv('https://static.bc-edx.com/ai/ail-v-1-0/m19/lms/datasets/attrition.csv')\n",
        "attrition_df.head()"
      ]
    },
    {
      "cell_type": "code",
      "execution_count": 34,
      "metadata": {
        "colab": {
          "base_uri": "https://localhost:8080/"
        },
        "id": "g22aQSY4Gc3Q",
        "outputId": "1f5c13c1-b981-4e40-a7ed-dd3fe6f1b81e"
      },
      "outputs": [
        {
          "data": {
            "text/plain": [
              "Age                         43\n",
              "Attrition                    2\n",
              "BusinessTravel               3\n",
              "Department                   3\n",
              "DistanceFromHome            29\n",
              "Education                    5\n",
              "EducationField               6\n",
              "EnvironmentSatisfaction      4\n",
              "HourlyRate                  71\n",
              "JobInvolvement               4\n",
              "JobLevel                     5\n",
              "JobRole                      9\n",
              "JobSatisfaction              4\n",
              "MaritalStatus                3\n",
              "NumCompaniesWorked          10\n",
              "OverTime                     2\n",
              "PercentSalaryHike           15\n",
              "PerformanceRating            2\n",
              "RelationshipSatisfaction     4\n",
              "StockOptionLevel             4\n",
              "TotalWorkingYears           40\n",
              "TrainingTimesLastYear        7\n",
              "WorkLifeBalance              4\n",
              "YearsAtCompany              37\n",
              "YearsInCurrentRole          19\n",
              "YearsSinceLastPromotion     16\n",
              "YearsWithCurrManager        18\n",
              "dtype: int64"
            ]
          },
          "execution_count": 34,
          "metadata": {},
          "output_type": "execute_result"
        }
      ],
      "source": [
        "# Determine the number of unique values in each column.\n",
        "attrition_df.nunique()"
      ]
    },
    {
      "cell_type": "code",
      "execution_count": 35,
      "metadata": {
        "id": "50vMgBEnJbfM"
      },
      "outputs": [
        {
          "data": {
            "text/html": [
              "<div>\n",
              "<style scoped>\n",
              "    .dataframe tbody tr th:only-of-type {\n",
              "        vertical-align: middle;\n",
              "    }\n",
              "\n",
              "    .dataframe tbody tr th {\n",
              "        vertical-align: top;\n",
              "    }\n",
              "\n",
              "    .dataframe thead th {\n",
              "        text-align: right;\n",
              "    }\n",
              "</style>\n",
              "<table border=\"1\" class=\"dataframe\">\n",
              "  <thead>\n",
              "    <tr style=\"text-align: right;\">\n",
              "      <th></th>\n",
              "      <th>Attrition</th>\n",
              "      <th>Department</th>\n",
              "    </tr>\n",
              "  </thead>\n",
              "  <tbody>\n",
              "    <tr>\n",
              "      <th>0</th>\n",
              "      <td>Yes</td>\n",
              "      <td>Sales</td>\n",
              "    </tr>\n",
              "    <tr>\n",
              "      <th>1</th>\n",
              "      <td>No</td>\n",
              "      <td>Research &amp; Development</td>\n",
              "    </tr>\n",
              "    <tr>\n",
              "      <th>2</th>\n",
              "      <td>Yes</td>\n",
              "      <td>Research &amp; Development</td>\n",
              "    </tr>\n",
              "    <tr>\n",
              "      <th>3</th>\n",
              "      <td>No</td>\n",
              "      <td>Research &amp; Development</td>\n",
              "    </tr>\n",
              "    <tr>\n",
              "      <th>4</th>\n",
              "      <td>No</td>\n",
              "      <td>Research &amp; Development</td>\n",
              "    </tr>\n",
              "  </tbody>\n",
              "</table>\n",
              "</div>"
            ],
            "text/plain": [
              "  Attrition              Department\n",
              "0       Yes                   Sales\n",
              "1        No  Research & Development\n",
              "2       Yes  Research & Development\n",
              "3        No  Research & Development\n",
              "4        No  Research & Development"
            ]
          },
          "execution_count": 35,
          "metadata": {},
          "output_type": "execute_result"
        }
      ],
      "source": [
        "# Create y_df with the Attrition and Department columns\n",
        "y_df = attrition_df[['Attrition', 'Department']]\n",
        "y_df.head()\n",
        "\n"
      ]
    },
    {
      "cell_type": "code",
      "execution_count": 62,
      "metadata": {
        "colab": {
          "base_uri": "https://localhost:8080/"
        },
        "id": "Virka0zLGc3R",
        "outputId": "dd5aee3a-9458-4ba6-e857-1b234de40915"
      },
      "outputs": [
        {
          "data": {
            "text/plain": [
              "Age                        int64\n",
              "DistanceFromHome           int64\n",
              "Education                  int64\n",
              "EnvironmentSatisfaction    int64\n",
              "HourlyRate                 int64\n",
              "JobInvolvement             int64\n",
              "JobLevel                   int64\n",
              "JobSatisfaction            int64\n",
              "WorkLifeBalance            int64\n",
              "YearsInCurrentRole         int64\n",
              "dtype: object"
            ]
          },
          "execution_count": 62,
          "metadata": {},
          "output_type": "execute_result"
        }
      ],
      "source": [
        "# Create a list of at least 10 column names to use as X data\n",
        "selected_columns = ['Age', 'DistanceFromHome', 'Education', 'EnvironmentSatisfaction', \n",
        "                    'HourlyRate', 'JobInvolvement', \n",
        "                    'JobLevel', 'JobSatisfaction', 'WorkLifeBalance', 'YearsInCurrentRole'] \n",
        "\n",
        "# Create X_df using your selected columns\n",
        "X_df = attrition_df[selected_columns]\n",
        "\n",
        "# Show the data types for X_df\n",
        "X_df.dtypes\n",
        "\n"
      ]
    },
    {
      "cell_type": "code",
      "execution_count": 63,
      "metadata": {
        "id": "KaJfdOGUMHMR"
      },
      "outputs": [],
      "source": [
        "# Split the data into training and testing sets\n",
        "from sklearn.model_selection import train_test_split\n",
        "X_train, X_test, y_train, y_test = train_test_split(X_df, y_df, test_size=0.2, random_state=42)\n"
      ]
    },
    {
      "cell_type": "code",
      "execution_count": 64,
      "metadata": {
        "colab": {
          "base_uri": "https://localhost:8080/"
        },
        "id": "NYubUJqiLCSp",
        "outputId": "53f31721-571c-4c94-d13e-25a715749593"
      },
      "outputs": [
        {
          "data": {
            "text/html": [
              "<div>\n",
              "<style scoped>\n",
              "    .dataframe tbody tr th:only-of-type {\n",
              "        vertical-align: middle;\n",
              "    }\n",
              "\n",
              "    .dataframe tbody tr th {\n",
              "        vertical-align: top;\n",
              "    }\n",
              "\n",
              "    .dataframe thead th {\n",
              "        text-align: right;\n",
              "    }\n",
              "</style>\n",
              "<table border=\"1\" class=\"dataframe\">\n",
              "  <thead>\n",
              "    <tr style=\"text-align: right;\">\n",
              "      <th></th>\n",
              "      <th>Age</th>\n",
              "      <th>DistanceFromHome</th>\n",
              "      <th>Education</th>\n",
              "      <th>EnvironmentSatisfaction</th>\n",
              "      <th>HourlyRate</th>\n",
              "      <th>JobInvolvement</th>\n",
              "      <th>JobLevel</th>\n",
              "      <th>JobSatisfaction</th>\n",
              "      <th>WorkLifeBalance</th>\n",
              "      <th>YearsInCurrentRole</th>\n",
              "    </tr>\n",
              "  </thead>\n",
              "  <tbody>\n",
              "    <tr>\n",
              "      <th>0</th>\n",
              "      <td>41</td>\n",
              "      <td>1</td>\n",
              "      <td>2</td>\n",
              "      <td>2</td>\n",
              "      <td>94</td>\n",
              "      <td>3</td>\n",
              "      <td>2</td>\n",
              "      <td>4</td>\n",
              "      <td>1</td>\n",
              "      <td>4</td>\n",
              "    </tr>\n",
              "    <tr>\n",
              "      <th>1</th>\n",
              "      <td>49</td>\n",
              "      <td>8</td>\n",
              "      <td>1</td>\n",
              "      <td>3</td>\n",
              "      <td>61</td>\n",
              "      <td>2</td>\n",
              "      <td>2</td>\n",
              "      <td>2</td>\n",
              "      <td>3</td>\n",
              "      <td>7</td>\n",
              "    </tr>\n",
              "    <tr>\n",
              "      <th>2</th>\n",
              "      <td>37</td>\n",
              "      <td>2</td>\n",
              "      <td>2</td>\n",
              "      <td>4</td>\n",
              "      <td>92</td>\n",
              "      <td>2</td>\n",
              "      <td>1</td>\n",
              "      <td>3</td>\n",
              "      <td>3</td>\n",
              "      <td>0</td>\n",
              "    </tr>\n",
              "    <tr>\n",
              "      <th>3</th>\n",
              "      <td>33</td>\n",
              "      <td>3</td>\n",
              "      <td>4</td>\n",
              "      <td>4</td>\n",
              "      <td>56</td>\n",
              "      <td>3</td>\n",
              "      <td>1</td>\n",
              "      <td>3</td>\n",
              "      <td>3</td>\n",
              "      <td>7</td>\n",
              "    </tr>\n",
              "    <tr>\n",
              "      <th>4</th>\n",
              "      <td>27</td>\n",
              "      <td>2</td>\n",
              "      <td>1</td>\n",
              "      <td>1</td>\n",
              "      <td>40</td>\n",
              "      <td>3</td>\n",
              "      <td>1</td>\n",
              "      <td>2</td>\n",
              "      <td>3</td>\n",
              "      <td>2</td>\n",
              "    </tr>\n",
              "  </tbody>\n",
              "</table>\n",
              "</div>"
            ],
            "text/plain": [
              "   Age  DistanceFromHome  Education  EnvironmentSatisfaction  HourlyRate  \\\n",
              "0   41                 1          2                        2          94   \n",
              "1   49                 8          1                        3          61   \n",
              "2   37                 2          2                        4          92   \n",
              "3   33                 3          4                        4          56   \n",
              "4   27                 2          1                        1          40   \n",
              "\n",
              "   JobInvolvement  JobLevel  JobSatisfaction  WorkLifeBalance  \\\n",
              "0               3         2                4                1   \n",
              "1               2         2                2                3   \n",
              "2               2         1                3                3   \n",
              "3               3         1                3                3   \n",
              "4               3         1                2                3   \n",
              "\n",
              "   YearsInCurrentRole  \n",
              "0                   4  \n",
              "1                   7  \n",
              "2                   0  \n",
              "3                   7  \n",
              "4                   2  "
            ]
          },
          "execution_count": 64,
          "metadata": {},
          "output_type": "execute_result"
        }
      ],
      "source": [
        "# Convert your X data to numeric data types however you see fit\n",
        "# Add new code cells as necessary\n",
        "X_numeric = pd.get_dummies(X_df)\n",
        "X_numeric.head()\n"
      ]
    },
    {
      "cell_type": "code",
      "execution_count": 65,
      "metadata": {
        "id": "EWA-aIA5Gc3T"
      },
      "outputs": [],
      "source": [
        "# Create a StandardScaler\n",
        "scaler = StandardScaler()\n",
        "\n",
        "# Fit the StandardScaler to the training data\n",
        "scaler.fit(X_train)\n",
        "\n",
        "# Scale the training and testing data\n",
        "X_train_scaled = scaler.transform(X_train)\n",
        "X_test_scaled = scaler.transform(X_test)\n"
      ]
    },
    {
      "cell_type": "code",
      "execution_count": 67,
      "metadata": {
        "colab": {
          "base_uri": "https://localhost:8080/"
        },
        "id": "-z0Mky8vQSz4",
        "outputId": "debefc85-c20b-48f5-f4d9-91eadd65d36a"
      },
      "outputs": [],
      "source": [
        "# Create a OneHotEncoder for the Department column\n",
        "from sklearn.preprocessing import OneHotEncoder\n",
        "encoder = OneHotEncoder(sparse_output=False)\n",
        "\n",
        "# Fit the encoder to the training data\n",
        "encoder.fit(y_train[['Department']])\n",
        "\n",
        "# Create two new variables by applying the encoder\n",
        "# to the training and testing data\n",
        "y_train_encoded = encoder.transform(y_train[['Department']])\n",
        "y_test_encoded = encoder.transform(y_test[['Department']])\n"
      ]
    },
    {
      "cell_type": "code",
      "execution_count": 68,
      "metadata": {
        "colab": {
          "base_uri": "https://localhost:8080/"
        },
        "id": "-G4DSpvFRrk4",
        "outputId": "9842e948-8a55-4b80-8fac-f96714e85589"
      },
      "outputs": [],
      "source": [
        "# Create a OneHotEncoder for the Attrition column\n",
        "attrition_encoder = OneHotEncoder(sparse_output=False)\n",
        "\n",
        "# Fit the encoder to the training data\n",
        "attrition_encoder.fit(y_train[['Attrition']])\n",
        "\n",
        "# Create two new variables by applying the encoder\n",
        "# to the training and testing data\n",
        "y_train_attrition_encoded = attrition_encoder.transform(y_train[['Attrition']])\n",
        "y_test_attrition_encoded = attrition_encoder.transform(y_test[['Attrition']])\n"
      ]
    },
    {
      "cell_type": "markdown",
      "metadata": {
        "id": "ykNmu_WWGc3T"
      },
      "source": [
        "## Create, Compile, and Train the Model"
      ]
    },
    {
      "cell_type": "code",
      "execution_count": 69,
      "metadata": {
        "id": "WUptZqmSGc3T"
      },
      "outputs": [],
      "source": [
        "# Find the number of columns in the X training data\n",
        "input_dim = X_train_scaled.shape[1]\n",
        "\n",
        "# Create the input layer\n",
        "input_layer = layers.Input(shape=(input_dim,))\n",
        "\n",
        "# Create at least two shared layers\n",
        "shared_layer1 = layers.Dense(64, activation='relu')(input_layer)\n",
        "shared_layer2 = layers.Dense(32, activation='relu')(shared_layer1)"
      ]
    },
    {
      "cell_type": "code",
      "execution_count": 70,
      "metadata": {
        "id": "JukjTm2yTEqd"
      },
      "outputs": [],
      "source": [
        "# Create a branch for Department\n",
        "# with a hidden layer and an output layer\n",
        "\n",
        "# Create the hidden layer\n",
        "department_hidden_layer = layers.Dense(16, activation='relu')(shared_layer2)\n",
        "\n",
        "# Create the output layer\n",
        "department_output_layer = layers.Dense(y_train_encoded.shape[1], activation='softmax', name='department_output')(department_hidden_layer)\n",
        "\n"
      ]
    },
    {
      "cell_type": "code",
      "execution_count": 71,
      "metadata": {
        "id": "9OqhUiOJUBkR"
      },
      "outputs": [],
      "source": [
        "# Create a branch for Attrition\n",
        "# with a hidden layer and an output layer\n",
        "\n",
        "# Create the hidden layer\n",
        "attrition_hidden_layer = layers.Dense(16, activation='relu')(shared_layer2)\n",
        "\n",
        "# Create the output layer\n",
        "attrition_output_layer = layers.Dense(y_train_attrition_encoded.shape[1], activation='softmax', name='attrition_output')(attrition_hidden_layer)\n"
      ]
    },
    {
      "cell_type": "code",
      "execution_count": 72,
      "metadata": {
        "colab": {
          "base_uri": "https://localhost:8080/"
        },
        "id": "twmuejdxGc3T",
        "outputId": "25096308-b68b-42e4-e4ea-ae82e97c435a"
      },
      "outputs": [
        {
          "data": {
            "text/html": [
              "<pre style=\"white-space:pre;overflow-x:auto;line-height:normal;font-family:Menlo,'DejaVu Sans Mono',consolas,'Courier New',monospace\"><span style=\"font-weight: bold\">Model: \"functional_1\"</span>\n",
              "</pre>\n"
            ],
            "text/plain": [
              "\u001b[1mModel: \"functional_1\"\u001b[0m\n"
            ]
          },
          "metadata": {},
          "output_type": "display_data"
        },
        {
          "data": {
            "text/html": [
              "<pre style=\"white-space:pre;overflow-x:auto;line-height:normal;font-family:Menlo,'DejaVu Sans Mono',consolas,'Courier New',monospace\">┏━━━━━━━━━━━━━━━━━━━━━┳━━━━━━━━━━━━━━━━━━━┳━━━━━━━━━━━━┳━━━━━━━━━━━━━━━━━━━┓\n",
              "┃<span style=\"font-weight: bold\"> Layer (type)        </span>┃<span style=\"font-weight: bold\"> Output Shape      </span>┃<span style=\"font-weight: bold\">    Param # </span>┃<span style=\"font-weight: bold\"> Connected to      </span>┃\n",
              "┡━━━━━━━━━━━━━━━━━━━━━╇━━━━━━━━━━━━━━━━━━━╇━━━━━━━━━━━━╇━━━━━━━━━━━━━━━━━━━┩\n",
              "│ input_layer_1       │ (<span style=\"color: #00d7ff; text-decoration-color: #00d7ff\">None</span>, <span style=\"color: #00af00; text-decoration-color: #00af00\">10</span>)        │          <span style=\"color: #00af00; text-decoration-color: #00af00\">0</span> │ -                 │\n",
              "│ (<span style=\"color: #0087ff; text-decoration-color: #0087ff\">InputLayer</span>)        │                   │            │                   │\n",
              "├─────────────────────┼───────────────────┼────────────┼───────────────────┤\n",
              "│ dense_4 (<span style=\"color: #0087ff; text-decoration-color: #0087ff\">Dense</span>)     │ (<span style=\"color: #00d7ff; text-decoration-color: #00d7ff\">None</span>, <span style=\"color: #00af00; text-decoration-color: #00af00\">64</span>)        │        <span style=\"color: #00af00; text-decoration-color: #00af00\">704</span> │ input_layer_1[<span style=\"color: #00af00; text-decoration-color: #00af00\">0</span>]… │\n",
              "├─────────────────────┼───────────────────┼────────────┼───────────────────┤\n",
              "│ dense_5 (<span style=\"color: #0087ff; text-decoration-color: #0087ff\">Dense</span>)     │ (<span style=\"color: #00d7ff; text-decoration-color: #00d7ff\">None</span>, <span style=\"color: #00af00; text-decoration-color: #00af00\">32</span>)        │      <span style=\"color: #00af00; text-decoration-color: #00af00\">2,080</span> │ dense_4[<span style=\"color: #00af00; text-decoration-color: #00af00\">0</span>][<span style=\"color: #00af00; text-decoration-color: #00af00\">0</span>]     │\n",
              "├─────────────────────┼───────────────────┼────────────┼───────────────────┤\n",
              "│ dense_6 (<span style=\"color: #0087ff; text-decoration-color: #0087ff\">Dense</span>)     │ (<span style=\"color: #00d7ff; text-decoration-color: #00d7ff\">None</span>, <span style=\"color: #00af00; text-decoration-color: #00af00\">16</span>)        │        <span style=\"color: #00af00; text-decoration-color: #00af00\">528</span> │ dense_5[<span style=\"color: #00af00; text-decoration-color: #00af00\">0</span>][<span style=\"color: #00af00; text-decoration-color: #00af00\">0</span>]     │\n",
              "├─────────────────────┼───────────────────┼────────────┼───────────────────┤\n",
              "│ dense_7 (<span style=\"color: #0087ff; text-decoration-color: #0087ff\">Dense</span>)     │ (<span style=\"color: #00d7ff; text-decoration-color: #00d7ff\">None</span>, <span style=\"color: #00af00; text-decoration-color: #00af00\">16</span>)        │        <span style=\"color: #00af00; text-decoration-color: #00af00\">528</span> │ dense_5[<span style=\"color: #00af00; text-decoration-color: #00af00\">0</span>][<span style=\"color: #00af00; text-decoration-color: #00af00\">0</span>]     │\n",
              "├─────────────────────┼───────────────────┼────────────┼───────────────────┤\n",
              "│ department_output   │ (<span style=\"color: #00d7ff; text-decoration-color: #00d7ff\">None</span>, <span style=\"color: #00af00; text-decoration-color: #00af00\">3</span>)         │         <span style=\"color: #00af00; text-decoration-color: #00af00\">51</span> │ dense_6[<span style=\"color: #00af00; text-decoration-color: #00af00\">0</span>][<span style=\"color: #00af00; text-decoration-color: #00af00\">0</span>]     │\n",
              "│ (<span style=\"color: #0087ff; text-decoration-color: #0087ff\">Dense</span>)             │                   │            │                   │\n",
              "├─────────────────────┼───────────────────┼────────────┼───────────────────┤\n",
              "│ attrition_output    │ (<span style=\"color: #00d7ff; text-decoration-color: #00d7ff\">None</span>, <span style=\"color: #00af00; text-decoration-color: #00af00\">2</span>)         │         <span style=\"color: #00af00; text-decoration-color: #00af00\">34</span> │ dense_7[<span style=\"color: #00af00; text-decoration-color: #00af00\">0</span>][<span style=\"color: #00af00; text-decoration-color: #00af00\">0</span>]     │\n",
              "│ (<span style=\"color: #0087ff; text-decoration-color: #0087ff\">Dense</span>)             │                   │            │                   │\n",
              "└─────────────────────┴───────────────────┴────────────┴───────────────────┘\n",
              "</pre>\n"
            ],
            "text/plain": [
              "┏━━━━━━━━━━━━━━━━━━━━━┳━━━━━━━━━━━━━━━━━━━┳━━━━━━━━━━━━┳━━━━━━━━━━━━━━━━━━━┓\n",
              "┃\u001b[1m \u001b[0m\u001b[1mLayer (type)       \u001b[0m\u001b[1m \u001b[0m┃\u001b[1m \u001b[0m\u001b[1mOutput Shape     \u001b[0m\u001b[1m \u001b[0m┃\u001b[1m \u001b[0m\u001b[1m   Param #\u001b[0m\u001b[1m \u001b[0m┃\u001b[1m \u001b[0m\u001b[1mConnected to     \u001b[0m\u001b[1m \u001b[0m┃\n",
              "┡━━━━━━━━━━━━━━━━━━━━━╇━━━━━━━━━━━━━━━━━━━╇━━━━━━━━━━━━╇━━━━━━━━━━━━━━━━━━━┩\n",
              "│ input_layer_1       │ (\u001b[38;5;45mNone\u001b[0m, \u001b[38;5;34m10\u001b[0m)        │          \u001b[38;5;34m0\u001b[0m │ -                 │\n",
              "│ (\u001b[38;5;33mInputLayer\u001b[0m)        │                   │            │                   │\n",
              "├─────────────────────┼───────────────────┼────────────┼───────────────────┤\n",
              "│ dense_4 (\u001b[38;5;33mDense\u001b[0m)     │ (\u001b[38;5;45mNone\u001b[0m, \u001b[38;5;34m64\u001b[0m)        │        \u001b[38;5;34m704\u001b[0m │ input_layer_1[\u001b[38;5;34m0\u001b[0m]… │\n",
              "├─────────────────────┼───────────────────┼────────────┼───────────────────┤\n",
              "│ dense_5 (\u001b[38;5;33mDense\u001b[0m)     │ (\u001b[38;5;45mNone\u001b[0m, \u001b[38;5;34m32\u001b[0m)        │      \u001b[38;5;34m2,080\u001b[0m │ dense_4[\u001b[38;5;34m0\u001b[0m][\u001b[38;5;34m0\u001b[0m]     │\n",
              "├─────────────────────┼───────────────────┼────────────┼───────────────────┤\n",
              "│ dense_6 (\u001b[38;5;33mDense\u001b[0m)     │ (\u001b[38;5;45mNone\u001b[0m, \u001b[38;5;34m16\u001b[0m)        │        \u001b[38;5;34m528\u001b[0m │ dense_5[\u001b[38;5;34m0\u001b[0m][\u001b[38;5;34m0\u001b[0m]     │\n",
              "├─────────────────────┼───────────────────┼────────────┼───────────────────┤\n",
              "│ dense_7 (\u001b[38;5;33mDense\u001b[0m)     │ (\u001b[38;5;45mNone\u001b[0m, \u001b[38;5;34m16\u001b[0m)        │        \u001b[38;5;34m528\u001b[0m │ dense_5[\u001b[38;5;34m0\u001b[0m][\u001b[38;5;34m0\u001b[0m]     │\n",
              "├─────────────────────┼───────────────────┼────────────┼───────────────────┤\n",
              "│ department_output   │ (\u001b[38;5;45mNone\u001b[0m, \u001b[38;5;34m3\u001b[0m)         │         \u001b[38;5;34m51\u001b[0m │ dense_6[\u001b[38;5;34m0\u001b[0m][\u001b[38;5;34m0\u001b[0m]     │\n",
              "│ (\u001b[38;5;33mDense\u001b[0m)             │                   │            │                   │\n",
              "├─────────────────────┼───────────────────┼────────────┼───────────────────┤\n",
              "│ attrition_output    │ (\u001b[38;5;45mNone\u001b[0m, \u001b[38;5;34m2\u001b[0m)         │         \u001b[38;5;34m34\u001b[0m │ dense_7[\u001b[38;5;34m0\u001b[0m][\u001b[38;5;34m0\u001b[0m]     │\n",
              "│ (\u001b[38;5;33mDense\u001b[0m)             │                   │            │                   │\n",
              "└─────────────────────┴───────────────────┴────────────┴───────────────────┘\n"
            ]
          },
          "metadata": {},
          "output_type": "display_data"
        },
        {
          "data": {
            "text/html": [
              "<pre style=\"white-space:pre;overflow-x:auto;line-height:normal;font-family:Menlo,'DejaVu Sans Mono',consolas,'Courier New',monospace\"><span style=\"font-weight: bold\"> Total params: </span><span style=\"color: #00af00; text-decoration-color: #00af00\">3,925</span> (15.33 KB)\n",
              "</pre>\n"
            ],
            "text/plain": [
              "\u001b[1m Total params: \u001b[0m\u001b[38;5;34m3,925\u001b[0m (15.33 KB)\n"
            ]
          },
          "metadata": {},
          "output_type": "display_data"
        },
        {
          "data": {
            "text/html": [
              "<pre style=\"white-space:pre;overflow-x:auto;line-height:normal;font-family:Menlo,'DejaVu Sans Mono',consolas,'Courier New',monospace\"><span style=\"font-weight: bold\"> Trainable params: </span><span style=\"color: #00af00; text-decoration-color: #00af00\">3,925</span> (15.33 KB)\n",
              "</pre>\n"
            ],
            "text/plain": [
              "\u001b[1m Trainable params: \u001b[0m\u001b[38;5;34m3,925\u001b[0m (15.33 KB)\n"
            ]
          },
          "metadata": {},
          "output_type": "display_data"
        },
        {
          "data": {
            "text/html": [
              "<pre style=\"white-space:pre;overflow-x:auto;line-height:normal;font-family:Menlo,'DejaVu Sans Mono',consolas,'Courier New',monospace\"><span style=\"font-weight: bold\"> Non-trainable params: </span><span style=\"color: #00af00; text-decoration-color: #00af00\">0</span> (0.00 B)\n",
              "</pre>\n"
            ],
            "text/plain": [
              "\u001b[1m Non-trainable params: \u001b[0m\u001b[38;5;34m0\u001b[0m (0.00 B)\n"
            ]
          },
          "metadata": {},
          "output_type": "display_data"
        }
      ],
      "source": [
        "# Create the model\n",
        "model = Model(inputs=input_layer, outputs=[department_output_layer, attrition_output_layer])\n",
        "\n",
        "# Compile the model\n",
        "model.compile(optimizer='adam',\n",
        "              loss={'department_output': 'categorical_crossentropy', 'attrition_output': 'categorical_crossentropy'},\n",
        "              metrics=['accuracy', 'accuracy'])\n",
        "\n",
        "# Summarize the model\n",
        "model.summary()\n"
      ]
    },
    {
      "cell_type": "code",
      "execution_count": 73,
      "metadata": {
        "colab": {
          "base_uri": "https://localhost:8080/"
        },
        "id": "c8oGy0dpGc3U",
        "outputId": "cc667d43-28cf-42d4-d719-c2bc02888d30"
      },
      "outputs": [
        {
          "name": "stdout",
          "output_type": "stream",
          "text": [
            "Epoch 1/100\n",
            "\u001b[1m37/37\u001b[0m \u001b[32m━━━━━━━━━━━━━━━━━━━━\u001b[0m\u001b[37m\u001b[0m \u001b[1m3s\u001b[0m 18ms/step - attrition_output_accuracy: 0.7820 - attrition_output_loss: 0.5680 - department_output_accuracy: 0.2631 - department_output_loss: 1.2078 - loss: 1.7759 - val_attrition_output_accuracy: 0.8673 - val_attrition_output_loss: 0.3815 - val_department_output_accuracy: 0.6224 - val_department_output_loss: 0.9023 - val_loss: 1.3127\n",
            "Epoch 2/100\n",
            "\u001b[1m37/37\u001b[0m \u001b[32m━━━━━━━━━━━━━━━━━━━━\u001b[0m\u001b[37m\u001b[0m \u001b[1m0s\u001b[0m 10ms/step - attrition_output_accuracy: 0.8368 - attrition_output_loss: 0.4430 - department_output_accuracy: 0.6462 - department_output_loss: 0.8560 - loss: 1.2990 - val_attrition_output_accuracy: 0.8673 - val_attrition_output_loss: 0.3604 - val_department_output_accuracy: 0.6667 - val_department_output_loss: 0.7787 - val_loss: 1.1702\n",
            "Epoch 3/100\n",
            "\u001b[1m37/37\u001b[0m \u001b[32m━━━━━━━━━━━━━━━━━━━━\u001b[0m\u001b[37m\u001b[0m \u001b[1m0s\u001b[0m 6ms/step - attrition_output_accuracy: 0.8202 - attrition_output_loss: 0.4458 - department_output_accuracy: 0.6304 - department_output_loss: 0.7998 - loss: 1.2457 - val_attrition_output_accuracy: 0.8673 - val_attrition_output_loss: 0.3432 - val_department_output_accuracy: 0.6667 - val_department_output_loss: 0.7578 - val_loss: 1.1373\n",
            "Epoch 4/100\n",
            "\u001b[1m37/37\u001b[0m \u001b[32m━━━━━━━━━━━━━━━━━━━━\u001b[0m\u001b[37m\u001b[0m \u001b[1m0s\u001b[0m 6ms/step - attrition_output_accuracy: 0.8413 - attrition_output_loss: 0.4053 - department_output_accuracy: 0.6378 - department_output_loss: 0.7778 - loss: 1.1831 - val_attrition_output_accuracy: 0.8707 - val_attrition_output_loss: 0.3464 - val_department_output_accuracy: 0.6735 - val_department_output_loss: 0.7519 - val_loss: 1.1340\n",
            "Epoch 5/100\n",
            "\u001b[1m37/37\u001b[0m \u001b[32m━━━━━━━━━━━━━━━━━━━━\u001b[0m\u001b[37m\u001b[0m \u001b[1m0s\u001b[0m 6ms/step - attrition_output_accuracy: 0.8340 - attrition_output_loss: 0.4137 - department_output_accuracy: 0.6417 - department_output_loss: 0.7589 - loss: 1.1726 - val_attrition_output_accuracy: 0.8741 - val_attrition_output_loss: 0.3410 - val_department_output_accuracy: 0.6701 - val_department_output_loss: 0.7506 - val_loss: 1.1274\n",
            "Epoch 6/100\n",
            "\u001b[1m37/37\u001b[0m \u001b[32m━━━━━━━━━━━━━━━━━━━━\u001b[0m\u001b[37m\u001b[0m \u001b[1m0s\u001b[0m 5ms/step - attrition_output_accuracy: 0.8424 - attrition_output_loss: 0.4019 - department_output_accuracy: 0.6576 - department_output_loss: 0.7172 - loss: 1.1192 - val_attrition_output_accuracy: 0.8707 - val_attrition_output_loss: 0.3380 - val_department_output_accuracy: 0.6599 - val_department_output_loss: 0.7495 - val_loss: 1.1246\n",
            "Epoch 7/100\n",
            "\u001b[1m37/37\u001b[0m \u001b[32m━━━━━━━━━━━━━━━━━━━━\u001b[0m\u001b[37m\u001b[0m \u001b[1m0s\u001b[0m 7ms/step - attrition_output_accuracy: 0.8543 - attrition_output_loss: 0.3729 - department_output_accuracy: 0.6428 - department_output_loss: 0.7222 - loss: 1.0950 - val_attrition_output_accuracy: 0.8707 - val_attrition_output_loss: 0.3392 - val_department_output_accuracy: 0.6599 - val_department_output_loss: 0.7482 - val_loss: 1.1236\n",
            "Epoch 8/100\n",
            "\u001b[1m37/37\u001b[0m \u001b[32m━━━━━━━━━━━━━━━━━━━━\u001b[0m\u001b[37m\u001b[0m \u001b[1m0s\u001b[0m 8ms/step - attrition_output_accuracy: 0.8507 - attrition_output_loss: 0.3893 - department_output_accuracy: 0.6485 - department_output_loss: 0.7156 - loss: 1.1049 - val_attrition_output_accuracy: 0.8707 - val_attrition_output_loss: 0.3403 - val_department_output_accuracy: 0.6531 - val_department_output_loss: 0.7490 - val_loss: 1.1258\n",
            "Epoch 9/100\n",
            "\u001b[1m37/37\u001b[0m \u001b[32m━━━━━━━━━━━━━━━━━━━━\u001b[0m\u001b[37m\u001b[0m \u001b[1m0s\u001b[0m 7ms/step - attrition_output_accuracy: 0.8501 - attrition_output_loss: 0.3823 - department_output_accuracy: 0.6508 - department_output_loss: 0.7109 - loss: 1.0931 - val_attrition_output_accuracy: 0.8707 - val_attrition_output_loss: 0.3413 - val_department_output_accuracy: 0.6497 - val_department_output_loss: 0.7494 - val_loss: 1.1270\n",
            "Epoch 10/100\n",
            "\u001b[1m37/37\u001b[0m \u001b[32m━━━━━━━━━━━━━━━━━━━━\u001b[0m\u001b[37m\u001b[0m \u001b[1m0s\u001b[0m 6ms/step - attrition_output_accuracy: 0.8359 - attrition_output_loss: 0.3920 - department_output_accuracy: 0.6433 - department_output_loss: 0.7190 - loss: 1.1110 - val_attrition_output_accuracy: 0.8673 - val_attrition_output_loss: 0.3371 - val_department_output_accuracy: 0.6531 - val_department_output_loss: 0.7500 - val_loss: 1.1238\n",
            "Epoch 11/100\n",
            "\u001b[1m37/37\u001b[0m \u001b[32m━━━━━━━━━━━━━━━━━━━━\u001b[0m\u001b[37m\u001b[0m \u001b[1m0s\u001b[0m 7ms/step - attrition_output_accuracy: 0.8478 - attrition_output_loss: 0.3683 - department_output_accuracy: 0.6582 - department_output_loss: 0.7258 - loss: 1.0941 - val_attrition_output_accuracy: 0.8741 - val_attrition_output_loss: 0.3421 - val_department_output_accuracy: 0.6463 - val_department_output_loss: 0.7529 - val_loss: 1.1316\n",
            "Epoch 12/100\n",
            "\u001b[1m37/37\u001b[0m \u001b[32m━━━━━━━━━━━━━━━━━━━━\u001b[0m\u001b[37m\u001b[0m \u001b[1m0s\u001b[0m 6ms/step - attrition_output_accuracy: 0.8541 - attrition_output_loss: 0.3719 - department_output_accuracy: 0.6902 - department_output_loss: 0.6771 - loss: 1.0491 - val_attrition_output_accuracy: 0.8741 - val_attrition_output_loss: 0.3410 - val_department_output_accuracy: 0.6531 - val_department_output_loss: 0.7516 - val_loss: 1.1310\n",
            "Epoch 13/100\n",
            "\u001b[1m37/37\u001b[0m \u001b[32m━━━━━━━━━━━━━━━━━━━━\u001b[0m\u001b[37m\u001b[0m \u001b[1m0s\u001b[0m 6ms/step - attrition_output_accuracy: 0.8492 - attrition_output_loss: 0.3586 - department_output_accuracy: 0.6941 - department_output_loss: 0.6677 - loss: 1.0263 - val_attrition_output_accuracy: 0.8673 - val_attrition_output_loss: 0.3414 - val_department_output_accuracy: 0.6497 - val_department_output_loss: 0.7531 - val_loss: 1.1311\n",
            "Epoch 14/100\n",
            "\u001b[1m37/37\u001b[0m \u001b[32m━━━━━━━━━━━━━━━━━━━━\u001b[0m\u001b[37m\u001b[0m \u001b[1m0s\u001b[0m 7ms/step - attrition_output_accuracy: 0.8428 - attrition_output_loss: 0.3789 - department_output_accuracy: 0.6798 - department_output_loss: 0.6763 - loss: 1.0552 - val_attrition_output_accuracy: 0.8707 - val_attrition_output_loss: 0.3430 - val_department_output_accuracy: 0.6565 - val_department_output_loss: 0.7557 - val_loss: 1.1378\n",
            "Epoch 15/100\n",
            "\u001b[1m37/37\u001b[0m \u001b[32m━━━━━━━━━━━━━━━━━━━━\u001b[0m\u001b[37m\u001b[0m \u001b[1m0s\u001b[0m 6ms/step - attrition_output_accuracy: 0.8622 - attrition_output_loss: 0.3620 - department_output_accuracy: 0.7020 - department_output_loss: 0.6740 - loss: 1.0359 - val_attrition_output_accuracy: 0.8707 - val_attrition_output_loss: 0.3449 - val_department_output_accuracy: 0.6497 - val_department_output_loss: 0.7580 - val_loss: 1.1397\n",
            "Epoch 16/100\n",
            "\u001b[1m37/37\u001b[0m \u001b[32m━━━━━━━━━━━━━━━━━━━━\u001b[0m\u001b[37m\u001b[0m \u001b[1m0s\u001b[0m 11ms/step - attrition_output_accuracy: 0.8543 - attrition_output_loss: 0.3716 - department_output_accuracy: 0.7045 - department_output_loss: 0.6406 - loss: 1.0122 - val_attrition_output_accuracy: 0.8639 - val_attrition_output_loss: 0.3409 - val_department_output_accuracy: 0.6497 - val_department_output_loss: 0.7571 - val_loss: 1.1374\n",
            "Epoch 17/100\n",
            "\u001b[1m37/37\u001b[0m \u001b[32m━━━━━━━━━━━━━━━━━━━━\u001b[0m\u001b[37m\u001b[0m \u001b[1m0s\u001b[0m 7ms/step - attrition_output_accuracy: 0.8622 - attrition_output_loss: 0.3477 - department_output_accuracy: 0.6965 - department_output_loss: 0.6804 - loss: 1.0281 - val_attrition_output_accuracy: 0.8639 - val_attrition_output_loss: 0.3462 - val_department_output_accuracy: 0.6599 - val_department_output_loss: 0.7602 - val_loss: 1.1467\n",
            "Epoch 18/100\n",
            "\u001b[1m37/37\u001b[0m \u001b[32m━━━━━━━━━━━━━━━━━━━━\u001b[0m\u001b[37m\u001b[0m \u001b[1m0s\u001b[0m 6ms/step - attrition_output_accuracy: 0.8449 - attrition_output_loss: 0.3539 - department_output_accuracy: 0.7004 - department_output_loss: 0.6749 - loss: 1.0289 - val_attrition_output_accuracy: 0.8741 - val_attrition_output_loss: 0.3468 - val_department_output_accuracy: 0.6497 - val_department_output_loss: 0.7674 - val_loss: 1.1528\n",
            "Epoch 19/100\n",
            "\u001b[1m37/37\u001b[0m \u001b[32m━━━━━━━━━━━━━━━━━━━━\u001b[0m\u001b[37m\u001b[0m \u001b[1m0s\u001b[0m 7ms/step - attrition_output_accuracy: 0.8646 - attrition_output_loss: 0.3328 - department_output_accuracy: 0.7223 - department_output_loss: 0.6440 - loss: 0.9769 - val_attrition_output_accuracy: 0.8673 - val_attrition_output_loss: 0.3486 - val_department_output_accuracy: 0.6463 - val_department_output_loss: 0.7632 - val_loss: 1.1550\n",
            "Epoch 20/100\n",
            "\u001b[1m37/37\u001b[0m \u001b[32m━━━━━━━━━━━━━━━━━━━━\u001b[0m\u001b[37m\u001b[0m \u001b[1m0s\u001b[0m 6ms/step - attrition_output_accuracy: 0.8833 - attrition_output_loss: 0.3359 - department_output_accuracy: 0.7356 - department_output_loss: 0.6228 - loss: 0.9585 - val_attrition_output_accuracy: 0.8707 - val_attrition_output_loss: 0.3478 - val_department_output_accuracy: 0.6361 - val_department_output_loss: 0.7698 - val_loss: 1.1619\n",
            "Epoch 21/100\n",
            "\u001b[1m37/37\u001b[0m \u001b[32m━━━━━━━━━━━━━━━━━━━━\u001b[0m\u001b[37m\u001b[0m \u001b[1m0s\u001b[0m 6ms/step - attrition_output_accuracy: 0.8694 - attrition_output_loss: 0.3291 - department_output_accuracy: 0.7264 - department_output_loss: 0.6207 - loss: 0.9496 - val_attrition_output_accuracy: 0.8707 - val_attrition_output_loss: 0.3511 - val_department_output_accuracy: 0.6293 - val_department_output_loss: 0.7743 - val_loss: 1.1699\n",
            "Epoch 22/100\n",
            "\u001b[1m37/37\u001b[0m \u001b[32m━━━━━━━━━━━━━━━━━━━━\u001b[0m\u001b[37m\u001b[0m \u001b[1m0s\u001b[0m 6ms/step - attrition_output_accuracy: 0.8634 - attrition_output_loss: 0.3268 - department_output_accuracy: 0.7152 - department_output_loss: 0.6620 - loss: 0.9888 - val_attrition_output_accuracy: 0.8639 - val_attrition_output_loss: 0.3540 - val_department_output_accuracy: 0.6327 - val_department_output_loss: 0.7744 - val_loss: 1.1720\n",
            "Epoch 23/100\n",
            "\u001b[1m37/37\u001b[0m \u001b[32m━━━━━━━━━━━━━━━━━━━━\u001b[0m\u001b[37m\u001b[0m \u001b[1m0s\u001b[0m 8ms/step - attrition_output_accuracy: 0.8853 - attrition_output_loss: 0.3031 - department_output_accuracy: 0.7482 - department_output_loss: 0.6205 - loss: 0.9236 - val_attrition_output_accuracy: 0.8707 - val_attrition_output_loss: 0.3520 - val_department_output_accuracy: 0.6361 - val_department_output_loss: 0.7731 - val_loss: 1.1723\n",
            "Epoch 24/100\n",
            "\u001b[1m37/37\u001b[0m \u001b[32m━━━━━━━━━━━━━━━━━━━━\u001b[0m\u001b[37m\u001b[0m \u001b[1m0s\u001b[0m 6ms/step - attrition_output_accuracy: 0.8685 - attrition_output_loss: 0.3133 - department_output_accuracy: 0.7550 - department_output_loss: 0.6084 - loss: 0.9217 - val_attrition_output_accuracy: 0.8707 - val_attrition_output_loss: 0.3545 - val_department_output_accuracy: 0.6259 - val_department_output_loss: 0.7789 - val_loss: 1.1804\n",
            "Epoch 25/100\n",
            "\u001b[1m37/37\u001b[0m \u001b[32m━━━━━━━━━━━━━━━━━━━━\u001b[0m\u001b[37m\u001b[0m \u001b[1m0s\u001b[0m 6ms/step - attrition_output_accuracy: 0.8759 - attrition_output_loss: 0.3102 - department_output_accuracy: 0.7461 - department_output_loss: 0.6078 - loss: 0.9180 - val_attrition_output_accuracy: 0.8741 - val_attrition_output_loss: 0.3501 - val_department_output_accuracy: 0.6190 - val_department_output_loss: 0.7851 - val_loss: 1.1855\n",
            "Epoch 26/100\n",
            "\u001b[1m37/37\u001b[0m \u001b[32m━━━━━━━━━━━━━━━━━━━━\u001b[0m\u001b[37m\u001b[0m \u001b[1m0s\u001b[0m 10ms/step - attrition_output_accuracy: 0.8618 - attrition_output_loss: 0.3252 - department_output_accuracy: 0.7654 - department_output_loss: 0.5856 - loss: 0.9108 - val_attrition_output_accuracy: 0.8707 - val_attrition_output_loss: 0.3545 - val_department_output_accuracy: 0.6122 - val_department_output_loss: 0.7972 - val_loss: 1.2030\n",
            "Epoch 27/100\n",
            "\u001b[1m37/37\u001b[0m \u001b[32m━━━━━━━━━━━━━━━━━━━━\u001b[0m\u001b[37m\u001b[0m \u001b[1m0s\u001b[0m 6ms/step - attrition_output_accuracy: 0.8849 - attrition_output_loss: 0.3084 - department_output_accuracy: 0.7624 - department_output_loss: 0.5808 - loss: 0.8891 - val_attrition_output_accuracy: 0.8605 - val_attrition_output_loss: 0.3584 - val_department_output_accuracy: 0.6327 - val_department_output_loss: 0.7910 - val_loss: 1.1989\n",
            "Epoch 28/100\n",
            "\u001b[1m37/37\u001b[0m \u001b[32m━━━━━━━━━━━━━━━━━━━━\u001b[0m\u001b[37m\u001b[0m \u001b[1m0s\u001b[0m 7ms/step - attrition_output_accuracy: 0.8825 - attrition_output_loss: 0.3086 - department_output_accuracy: 0.7409 - department_output_loss: 0.5890 - loss: 0.8978 - val_attrition_output_accuracy: 0.8639 - val_attrition_output_loss: 0.3603 - val_department_output_accuracy: 0.6463 - val_department_output_loss: 0.7868 - val_loss: 1.1942\n",
            "Epoch 29/100\n",
            "\u001b[1m37/37\u001b[0m \u001b[32m━━━━━━━━━━━━━━━━━━━━\u001b[0m\u001b[37m\u001b[0m \u001b[1m0s\u001b[0m 9ms/step - attrition_output_accuracy: 0.8753 - attrition_output_loss: 0.3179 - department_output_accuracy: 0.7743 - department_output_loss: 0.5707 - loss: 0.8886 - val_attrition_output_accuracy: 0.8673 - val_attrition_output_loss: 0.3557 - val_department_output_accuracy: 0.6122 - val_department_output_loss: 0.8056 - val_loss: 1.2149\n",
            "Epoch 30/100\n",
            "\u001b[1m37/37\u001b[0m \u001b[32m━━━━━━━━━━━━━━━━━━━━\u001b[0m\u001b[37m\u001b[0m \u001b[1m1s\u001b[0m 7ms/step - attrition_output_accuracy: 0.8976 - attrition_output_loss: 0.2804 - department_output_accuracy: 0.7698 - department_output_loss: 0.5720 - loss: 0.8524 - val_attrition_output_accuracy: 0.8673 - val_attrition_output_loss: 0.3620 - val_department_output_accuracy: 0.5986 - val_department_output_loss: 0.8115 - val_loss: 1.2286\n",
            "Epoch 31/100\n",
            "\u001b[1m37/37\u001b[0m \u001b[32m━━━━━━━━━━━━━━━━━━━━\u001b[0m\u001b[37m\u001b[0m \u001b[1m1s\u001b[0m 7ms/step - attrition_output_accuracy: 0.8827 - attrition_output_loss: 0.2965 - department_output_accuracy: 0.7719 - department_output_loss: 0.5530 - loss: 0.8495 - val_attrition_output_accuracy: 0.8673 - val_attrition_output_loss: 0.3620 - val_department_output_accuracy: 0.5850 - val_department_output_loss: 0.8260 - val_loss: 1.2457\n",
            "Epoch 32/100\n",
            "\u001b[1m37/37\u001b[0m \u001b[32m━━━━━━━━━━━━━━━━━━━━\u001b[0m\u001b[37m\u001b[0m \u001b[1m0s\u001b[0m 7ms/step - attrition_output_accuracy: 0.8860 - attrition_output_loss: 0.3117 - department_output_accuracy: 0.7484 - department_output_loss: 0.5897 - loss: 0.9014 - val_attrition_output_accuracy: 0.8673 - val_attrition_output_loss: 0.3623 - val_department_output_accuracy: 0.6531 - val_department_output_loss: 0.8089 - val_loss: 1.2240\n",
            "Epoch 33/100\n",
            "\u001b[1m37/37\u001b[0m \u001b[32m━━━━━━━━━━━━━━━━━━━━\u001b[0m\u001b[37m\u001b[0m \u001b[1m0s\u001b[0m 6ms/step - attrition_output_accuracy: 0.8917 - attrition_output_loss: 0.2879 - department_output_accuracy: 0.7542 - department_output_loss: 0.5884 - loss: 0.8763 - val_attrition_output_accuracy: 0.8639 - val_attrition_output_loss: 0.3686 - val_department_output_accuracy: 0.6122 - val_department_output_loss: 0.8255 - val_loss: 1.2509\n",
            "Epoch 34/100\n",
            "\u001b[1m37/37\u001b[0m \u001b[32m━━━━━━━━━━━━━━━━━━━━\u001b[0m\u001b[37m\u001b[0m \u001b[1m0s\u001b[0m 6ms/step - attrition_output_accuracy: 0.9016 - attrition_output_loss: 0.2807 - department_output_accuracy: 0.7736 - department_output_loss: 0.5440 - loss: 0.8246 - val_attrition_output_accuracy: 0.8605 - val_attrition_output_loss: 0.3659 - val_department_output_accuracy: 0.6395 - val_department_output_loss: 0.8220 - val_loss: 1.2461\n",
            "Epoch 35/100\n",
            "\u001b[1m37/37\u001b[0m \u001b[32m━━━━━━━━━━━━━━━━━━━━\u001b[0m\u001b[37m\u001b[0m \u001b[1m0s\u001b[0m 6ms/step - attrition_output_accuracy: 0.8905 - attrition_output_loss: 0.2831 - department_output_accuracy: 0.7821 - department_output_loss: 0.5378 - loss: 0.8210 - val_attrition_output_accuracy: 0.8639 - val_attrition_output_loss: 0.3742 - val_department_output_accuracy: 0.6156 - val_department_output_loss: 0.8195 - val_loss: 1.2531\n",
            "Epoch 36/100\n",
            "\u001b[1m37/37\u001b[0m \u001b[32m━━━━━━━━━━━━━━━━━━━━\u001b[0m\u001b[37m\u001b[0m \u001b[1m0s\u001b[0m 7ms/step - attrition_output_accuracy: 0.9069 - attrition_output_loss: 0.2709 - department_output_accuracy: 0.7888 - department_output_loss: 0.5194 - loss: 0.7903 - val_attrition_output_accuracy: 0.8639 - val_attrition_output_loss: 0.3806 - val_department_output_accuracy: 0.6156 - val_department_output_loss: 0.8317 - val_loss: 1.2704\n",
            "Epoch 37/100\n",
            "\u001b[1m37/37\u001b[0m \u001b[32m━━━━━━━━━━━━━━━━━━━━\u001b[0m\u001b[37m\u001b[0m \u001b[1m0s\u001b[0m 6ms/step - attrition_output_accuracy: 0.8914 - attrition_output_loss: 0.2859 - department_output_accuracy: 0.7800 - department_output_loss: 0.5431 - loss: 0.8289 - val_attrition_output_accuracy: 0.8571 - val_attrition_output_loss: 0.3837 - val_department_output_accuracy: 0.6259 - val_department_output_loss: 0.8407 - val_loss: 1.2926\n",
            "Epoch 38/100\n",
            "\u001b[1m37/37\u001b[0m \u001b[32m━━━━━━━━━━━━━━━━━━━━\u001b[0m\u001b[37m\u001b[0m \u001b[1m0s\u001b[0m 10ms/step - attrition_output_accuracy: 0.8985 - attrition_output_loss: 0.2611 - department_output_accuracy: 0.7845 - department_output_loss: 0.5269 - loss: 0.7880 - val_attrition_output_accuracy: 0.8639 - val_attrition_output_loss: 0.3834 - val_department_output_accuracy: 0.6156 - val_department_output_loss: 0.8331 - val_loss: 1.2804\n",
            "Epoch 39/100\n",
            "\u001b[1m37/37\u001b[0m \u001b[32m━━━━━━━━━━━━━━━━━━━━\u001b[0m\u001b[37m\u001b[0m \u001b[1m1s\u001b[0m 6ms/step - attrition_output_accuracy: 0.9181 - attrition_output_loss: 0.2394 - department_output_accuracy: 0.7740 - department_output_loss: 0.5407 - loss: 0.7801 - val_attrition_output_accuracy: 0.8605 - val_attrition_output_loss: 0.3887 - val_department_output_accuracy: 0.5918 - val_department_output_loss: 0.8589 - val_loss: 1.3161\n",
            "Epoch 40/100\n",
            "\u001b[1m37/37\u001b[0m \u001b[32m━━━━━━━━━━━━━━━━━━━━\u001b[0m\u001b[37m\u001b[0m \u001b[1m0s\u001b[0m 7ms/step - attrition_output_accuracy: 0.9000 - attrition_output_loss: 0.2489 - department_output_accuracy: 0.7890 - department_output_loss: 0.5170 - loss: 0.7660 - val_attrition_output_accuracy: 0.8401 - val_attrition_output_loss: 0.3916 - val_department_output_accuracy: 0.6020 - val_department_output_loss: 0.8559 - val_loss: 1.3141\n",
            "Epoch 41/100\n",
            "\u001b[1m37/37\u001b[0m \u001b[32m━━━━━━━━━━━━━━━━━━━━\u001b[0m\u001b[37m\u001b[0m \u001b[1m0s\u001b[0m 7ms/step - attrition_output_accuracy: 0.8799 - attrition_output_loss: 0.2879 - department_output_accuracy: 0.8154 - department_output_loss: 0.4922 - loss: 0.7801 - val_attrition_output_accuracy: 0.8673 - val_attrition_output_loss: 0.4068 - val_department_output_accuracy: 0.6156 - val_department_output_loss: 0.8607 - val_loss: 1.3414\n",
            "Epoch 42/100\n",
            "\u001b[1m37/37\u001b[0m \u001b[32m━━━━━━━━━━━━━━━━━━━━\u001b[0m\u001b[37m\u001b[0m \u001b[1m0s\u001b[0m 6ms/step - attrition_output_accuracy: 0.9096 - attrition_output_loss: 0.2522 - department_output_accuracy: 0.8033 - department_output_loss: 0.5040 - loss: 0.7561 - val_attrition_output_accuracy: 0.8469 - val_attrition_output_loss: 0.3942 - val_department_output_accuracy: 0.6122 - val_department_output_loss: 0.8689 - val_loss: 1.3299\n",
            "Epoch 43/100\n",
            "\u001b[1m37/37\u001b[0m \u001b[32m━━━━━━━━━━━━━━━━━━━━\u001b[0m\u001b[37m\u001b[0m \u001b[1m0s\u001b[0m 6ms/step - attrition_output_accuracy: 0.9110 - attrition_output_loss: 0.2386 - department_output_accuracy: 0.7985 - department_output_loss: 0.5039 - loss: 0.7425 - val_attrition_output_accuracy: 0.8605 - val_attrition_output_loss: 0.3994 - val_department_output_accuracy: 0.5884 - val_department_output_loss: 0.8754 - val_loss: 1.3471\n",
            "Epoch 44/100\n",
            "\u001b[1m37/37\u001b[0m \u001b[32m━━━━━━━━━━━━━━━━━━━━\u001b[0m\u001b[37m\u001b[0m \u001b[1m0s\u001b[0m 6ms/step - attrition_output_accuracy: 0.9199 - attrition_output_loss: 0.2229 - department_output_accuracy: 0.8022 - department_output_loss: 0.4949 - loss: 0.7178 - val_attrition_output_accuracy: 0.8605 - val_attrition_output_loss: 0.4048 - val_department_output_accuracy: 0.5986 - val_department_output_loss: 0.8908 - val_loss: 1.3680\n",
            "Epoch 45/100\n",
            "\u001b[1m37/37\u001b[0m \u001b[32m━━━━━━━━━━━━━━━━━━━━\u001b[0m\u001b[37m\u001b[0m \u001b[1m0s\u001b[0m 6ms/step - attrition_output_accuracy: 0.9215 - attrition_output_loss: 0.2300 - department_output_accuracy: 0.8161 - department_output_loss: 0.4716 - loss: 0.7016 - val_attrition_output_accuracy: 0.8571 - val_attrition_output_loss: 0.4055 - val_department_output_accuracy: 0.6122 - val_department_output_loss: 0.8809 - val_loss: 1.3570\n",
            "Epoch 46/100\n",
            "\u001b[1m37/37\u001b[0m \u001b[32m━━━━━━━━━━━━━━━━━━━━\u001b[0m\u001b[37m\u001b[0m \u001b[1m0s\u001b[0m 6ms/step - attrition_output_accuracy: 0.9060 - attrition_output_loss: 0.2425 - department_output_accuracy: 0.8186 - department_output_loss: 0.4805 - loss: 0.7231 - val_attrition_output_accuracy: 0.8503 - val_attrition_output_loss: 0.4141 - val_department_output_accuracy: 0.6259 - val_department_output_loss: 0.8820 - val_loss: 1.3674\n",
            "Epoch 47/100\n",
            "\u001b[1m37/37\u001b[0m \u001b[32m━━━━━━━━━━━━━━━━━━━━\u001b[0m\u001b[37m\u001b[0m \u001b[1m0s\u001b[0m 7ms/step - attrition_output_accuracy: 0.9077 - attrition_output_loss: 0.2413 - department_output_accuracy: 0.8019 - department_output_loss: 0.4777 - loss: 0.7190 - val_attrition_output_accuracy: 0.8469 - val_attrition_output_loss: 0.4195 - val_department_output_accuracy: 0.5918 - val_department_output_loss: 0.8968 - val_loss: 1.3872\n",
            "Epoch 48/100\n",
            "\u001b[1m37/37\u001b[0m \u001b[32m━━━━━━━━━━━━━━━━━━━━\u001b[0m\u001b[37m\u001b[0m \u001b[1m0s\u001b[0m 6ms/step - attrition_output_accuracy: 0.9226 - attrition_output_loss: 0.2149 - department_output_accuracy: 0.8042 - department_output_loss: 0.4875 - loss: 0.7024 - val_attrition_output_accuracy: 0.8435 - val_attrition_output_loss: 0.4242 - val_department_output_accuracy: 0.5986 - val_department_output_loss: 0.9090 - val_loss: 1.4114\n",
            "Epoch 49/100\n",
            "\u001b[1m37/37\u001b[0m \u001b[32m━━━━━━━━━━━━━━━━━━━━\u001b[0m\u001b[37m\u001b[0m \u001b[1m0s\u001b[0m 7ms/step - attrition_output_accuracy: 0.9247 - attrition_output_loss: 0.2318 - department_output_accuracy: 0.8023 - department_output_loss: 0.4914 - loss: 0.7233 - val_attrition_output_accuracy: 0.8537 - val_attrition_output_loss: 0.4287 - val_department_output_accuracy: 0.6224 - val_department_output_loss: 0.9154 - val_loss: 1.4092\n",
            "Epoch 50/100\n",
            "\u001b[1m37/37\u001b[0m \u001b[32m━━━━━━━━━━━━━━━━━━━━\u001b[0m\u001b[37m\u001b[0m \u001b[1m0s\u001b[0m 6ms/step - attrition_output_accuracy: 0.9275 - attrition_output_loss: 0.2022 - department_output_accuracy: 0.8205 - department_output_loss: 0.4694 - loss: 0.6715 - val_attrition_output_accuracy: 0.8367 - val_attrition_output_loss: 0.4391 - val_department_output_accuracy: 0.5952 - val_department_output_loss: 0.9302 - val_loss: 1.4447\n",
            "Epoch 51/100\n",
            "\u001b[1m37/37\u001b[0m \u001b[32m━━━━━━━━━━━━━━━━━━━━\u001b[0m\u001b[37m\u001b[0m \u001b[1m0s\u001b[0m 6ms/step - attrition_output_accuracy: 0.9274 - attrition_output_loss: 0.2095 - department_output_accuracy: 0.8145 - department_output_loss: 0.4652 - loss: 0.6747 - val_attrition_output_accuracy: 0.8469 - val_attrition_output_loss: 0.4356 - val_department_output_accuracy: 0.6293 - val_department_output_loss: 0.9203 - val_loss: 1.4230\n",
            "Epoch 52/100\n",
            "\u001b[1m37/37\u001b[0m \u001b[32m━━━━━━━━━━━━━━━━━━━━\u001b[0m\u001b[37m\u001b[0m \u001b[1m0s\u001b[0m 7ms/step - attrition_output_accuracy: 0.9264 - attrition_output_loss: 0.2022 - department_output_accuracy: 0.8342 - department_output_loss: 0.4301 - loss: 0.6324 - val_attrition_output_accuracy: 0.8537 - val_attrition_output_loss: 0.4324 - val_department_output_accuracy: 0.5680 - val_department_output_loss: 0.9482 - val_loss: 1.4551\n",
            "Epoch 53/100\n",
            "\u001b[1m37/37\u001b[0m \u001b[32m━━━━━━━━━━━━━━━━━━━━\u001b[0m\u001b[37m\u001b[0m \u001b[1m0s\u001b[0m 6ms/step - attrition_output_accuracy: 0.9214 - attrition_output_loss: 0.1996 - department_output_accuracy: 0.8386 - department_output_loss: 0.4323 - loss: 0.6318 - val_attrition_output_accuracy: 0.8231 - val_attrition_output_loss: 0.4617 - val_department_output_accuracy: 0.5850 - val_department_output_loss: 0.9520 - val_loss: 1.4976\n",
            "Epoch 54/100\n",
            "\u001b[1m37/37\u001b[0m \u001b[32m━━━━━━━━━━━━━━━━━━━━\u001b[0m\u001b[37m\u001b[0m \u001b[1m0s\u001b[0m 6ms/step - attrition_output_accuracy: 0.9225 - attrition_output_loss: 0.2195 - department_output_accuracy: 0.8253 - department_output_loss: 0.4394 - loss: 0.6589 - val_attrition_output_accuracy: 0.8469 - val_attrition_output_loss: 0.4495 - val_department_output_accuracy: 0.6088 - val_department_output_loss: 0.9492 - val_loss: 1.4693\n",
            "Epoch 55/100\n",
            "\u001b[1m37/37\u001b[0m \u001b[32m━━━━━━━━━━━━━━━━━━━━\u001b[0m\u001b[37m\u001b[0m \u001b[1m0s\u001b[0m 6ms/step - attrition_output_accuracy: 0.9214 - attrition_output_loss: 0.2222 - department_output_accuracy: 0.8129 - department_output_loss: 0.4444 - loss: 0.6667 - val_attrition_output_accuracy: 0.8333 - val_attrition_output_loss: 0.4604 - val_department_output_accuracy: 0.6224 - val_department_output_loss: 0.9637 - val_loss: 1.5016\n",
            "Epoch 56/100\n",
            "\u001b[1m37/37\u001b[0m \u001b[32m━━━━━━━━━━━━━━━━━━━━\u001b[0m\u001b[37m\u001b[0m \u001b[1m0s\u001b[0m 6ms/step - attrition_output_accuracy: 0.9204 - attrition_output_loss: 0.1991 - department_output_accuracy: 0.8498 - department_output_loss: 0.4160 - loss: 0.6152 - val_attrition_output_accuracy: 0.8367 - val_attrition_output_loss: 0.4683 - val_department_output_accuracy: 0.6156 - val_department_output_loss: 0.9559 - val_loss: 1.5040\n",
            "Epoch 57/100\n",
            "\u001b[1m37/37\u001b[0m \u001b[32m━━━━━━━━━━━━━━━━━━━━\u001b[0m\u001b[37m\u001b[0m \u001b[1m0s\u001b[0m 7ms/step - attrition_output_accuracy: 0.9436 - attrition_output_loss: 0.1777 - department_output_accuracy: 0.8464 - department_output_loss: 0.4249 - loss: 0.6027 - val_attrition_output_accuracy: 0.8231 - val_attrition_output_loss: 0.4707 - val_department_output_accuracy: 0.5748 - val_department_output_loss: 0.9963 - val_loss: 1.5577\n",
            "Epoch 58/100\n",
            "\u001b[1m37/37\u001b[0m \u001b[32m━━━━━━━━━━━━━━━━━━━━\u001b[0m\u001b[37m\u001b[0m \u001b[1m0s\u001b[0m 9ms/step - attrition_output_accuracy: 0.9354 - attrition_output_loss: 0.1883 - department_output_accuracy: 0.8382 - department_output_loss: 0.4177 - loss: 0.6060 - val_attrition_output_accuracy: 0.8367 - val_attrition_output_loss: 0.4782 - val_department_output_accuracy: 0.6327 - val_department_output_loss: 0.9831 - val_loss: 1.5295\n",
            "Epoch 59/100\n",
            "\u001b[1m37/37\u001b[0m \u001b[32m━━━━━━━━━━━━━━━━━━━━\u001b[0m\u001b[37m\u001b[0m \u001b[1m0s\u001b[0m 7ms/step - attrition_output_accuracy: 0.9296 - attrition_output_loss: 0.1914 - department_output_accuracy: 0.8496 - department_output_loss: 0.4115 - loss: 0.6028 - val_attrition_output_accuracy: 0.8435 - val_attrition_output_loss: 0.4824 - val_department_output_accuracy: 0.6224 - val_department_output_loss: 0.9858 - val_loss: 1.5465\n",
            "Epoch 60/100\n",
            "\u001b[1m37/37\u001b[0m \u001b[32m━━━━━━━━━━━━━━━━━━━━\u001b[0m\u001b[37m\u001b[0m \u001b[1m0s\u001b[0m 6ms/step - attrition_output_accuracy: 0.9326 - attrition_output_loss: 0.1966 - department_output_accuracy: 0.8335 - department_output_loss: 0.4195 - loss: 0.6160 - val_attrition_output_accuracy: 0.8333 - val_attrition_output_loss: 0.4939 - val_department_output_accuracy: 0.5612 - val_department_output_loss: 1.0135 - val_loss: 1.5975\n",
            "Epoch 61/100\n",
            "\u001b[1m37/37\u001b[0m \u001b[32m━━━━━━━━━━━━━━━━━━━━\u001b[0m\u001b[37m\u001b[0m \u001b[1m1s\u001b[0m 9ms/step - attrition_output_accuracy: 0.9394 - attrition_output_loss: 0.1727 - department_output_accuracy: 0.8304 - department_output_loss: 0.4285 - loss: 0.6012 - val_attrition_output_accuracy: 0.7993 - val_attrition_output_loss: 0.5103 - val_department_output_accuracy: 0.5850 - val_department_output_loss: 1.0081 - val_loss: 1.5990\n",
            "Epoch 62/100\n",
            "\u001b[1m37/37\u001b[0m \u001b[32m━━━━━━━━━━━━━━━━━━━━\u001b[0m\u001b[37m\u001b[0m \u001b[1m0s\u001b[0m 11ms/step - attrition_output_accuracy: 0.9464 - attrition_output_loss: 0.1558 - department_output_accuracy: 0.8472 - department_output_loss: 0.3882 - loss: 0.5440 - val_attrition_output_accuracy: 0.8197 - val_attrition_output_loss: 0.5199 - val_department_output_accuracy: 0.6020 - val_department_output_loss: 1.0121 - val_loss: 1.6135\n",
            "Epoch 63/100\n",
            "\u001b[1m37/37\u001b[0m \u001b[32m━━━━━━━━━━━━━━━━━━━━\u001b[0m\u001b[37m\u001b[0m \u001b[1m0s\u001b[0m 6ms/step - attrition_output_accuracy: 0.9316 - attrition_output_loss: 0.1773 - department_output_accuracy: 0.8557 - department_output_loss: 0.3850 - loss: 0.5622 - val_attrition_output_accuracy: 0.8197 - val_attrition_output_loss: 0.5100 - val_department_output_accuracy: 0.5782 - val_department_output_loss: 1.0310 - val_loss: 1.6342\n",
            "Epoch 64/100\n",
            "\u001b[1m37/37\u001b[0m \u001b[32m━━━━━━━━━━━━━━━━━━━━\u001b[0m\u001b[37m\u001b[0m \u001b[1m1s\u001b[0m 14ms/step - attrition_output_accuracy: 0.9458 - attrition_output_loss: 0.1624 - department_output_accuracy: 0.8729 - department_output_loss: 0.3636 - loss: 0.5259 - val_attrition_output_accuracy: 0.8061 - val_attrition_output_loss: 0.5232 - val_department_output_accuracy: 0.5884 - val_department_output_loss: 1.0398 - val_loss: 1.6533\n",
            "Epoch 65/100\n",
            "\u001b[1m37/37\u001b[0m \u001b[32m━━━━━━━━━━━━━━━━━━━━\u001b[0m\u001b[37m\u001b[0m \u001b[1m0s\u001b[0m 7ms/step - attrition_output_accuracy: 0.9496 - attrition_output_loss: 0.1758 - department_output_accuracy: 0.8698 - department_output_loss: 0.3734 - loss: 0.5492 - val_attrition_output_accuracy: 0.8231 - val_attrition_output_loss: 0.5150 - val_department_output_accuracy: 0.5714 - val_department_output_loss: 1.0452 - val_loss: 1.6477\n",
            "Epoch 66/100\n",
            "\u001b[1m37/37\u001b[0m \u001b[32m━━━━━━━━━━━━━━━━━━━━\u001b[0m\u001b[37m\u001b[0m \u001b[1m1s\u001b[0m 17ms/step - attrition_output_accuracy: 0.9498 - attrition_output_loss: 0.1541 - department_output_accuracy: 0.8705 - department_output_loss: 0.3492 - loss: 0.5033 - val_attrition_output_accuracy: 0.7993 - val_attrition_output_loss: 0.5382 - val_department_output_accuracy: 0.6088 - val_department_output_loss: 1.0471 - val_loss: 1.6708\n",
            "Epoch 67/100\n",
            "\u001b[1m37/37\u001b[0m \u001b[32m━━━━━━━━━━━━━━━━━━━━\u001b[0m\u001b[37m\u001b[0m \u001b[1m0s\u001b[0m 11ms/step - attrition_output_accuracy: 0.9475 - attrition_output_loss: 0.1513 - department_output_accuracy: 0.8599 - department_output_loss: 0.3837 - loss: 0.5349 - val_attrition_output_accuracy: 0.8197 - val_attrition_output_loss: 0.5292 - val_department_output_accuracy: 0.5816 - val_department_output_loss: 1.0937 - val_loss: 1.7203\n",
            "Epoch 68/100\n",
            "\u001b[1m37/37\u001b[0m \u001b[32m━━━━━━━━━━━━━━━━━━━━\u001b[0m\u001b[37m\u001b[0m \u001b[1m0s\u001b[0m 8ms/step - attrition_output_accuracy: 0.9572 - attrition_output_loss: 0.1452 - department_output_accuracy: 0.8391 - department_output_loss: 0.3908 - loss: 0.5361 - val_attrition_output_accuracy: 0.8333 - val_attrition_output_loss: 0.5326 - val_department_output_accuracy: 0.6190 - val_department_output_loss: 1.0610 - val_loss: 1.6724\n",
            "Epoch 69/100\n",
            "\u001b[1m37/37\u001b[0m \u001b[32m━━━━━━━━━━━━━━━━━━━━\u001b[0m\u001b[37m\u001b[0m \u001b[1m0s\u001b[0m 10ms/step - attrition_output_accuracy: 0.9528 - attrition_output_loss: 0.1502 - department_output_accuracy: 0.8807 - department_output_loss: 0.3500 - loss: 0.5003 - val_attrition_output_accuracy: 0.8197 - val_attrition_output_loss: 0.5690 - val_department_output_accuracy: 0.6088 - val_department_output_loss: 1.0660 - val_loss: 1.7257\n",
            "Epoch 70/100\n",
            "\u001b[1m37/37\u001b[0m \u001b[32m━━━━━━━━━━━━━━━━━━━━\u001b[0m\u001b[37m\u001b[0m \u001b[1m0s\u001b[0m 10ms/step - attrition_output_accuracy: 0.9589 - attrition_output_loss: 0.1425 - department_output_accuracy: 0.8496 - department_output_loss: 0.3748 - loss: 0.5174 - val_attrition_output_accuracy: 0.7925 - val_attrition_output_loss: 0.5736 - val_department_output_accuracy: 0.6190 - val_department_output_loss: 1.0865 - val_loss: 1.7466\n",
            "Epoch 71/100\n",
            "\u001b[1m37/37\u001b[0m \u001b[32m━━━━━━━━━━━━━━━━━━━━\u001b[0m\u001b[37m\u001b[0m \u001b[1m1s\u001b[0m 13ms/step - attrition_output_accuracy: 0.9656 - attrition_output_loss: 0.1349 - department_output_accuracy: 0.8691 - department_output_loss: 0.3453 - loss: 0.4803 - val_attrition_output_accuracy: 0.8095 - val_attrition_output_loss: 0.5687 - val_department_output_accuracy: 0.6054 - val_department_output_loss: 1.0998 - val_loss: 1.7643\n",
            "Epoch 72/100\n",
            "\u001b[1m37/37\u001b[0m \u001b[32m━━━━━━━━━━━━━━━━━━━━\u001b[0m\u001b[37m\u001b[0m \u001b[1m0s\u001b[0m 9ms/step - attrition_output_accuracy: 0.9499 - attrition_output_loss: 0.1607 - department_output_accuracy: 0.8735 - department_output_loss: 0.3360 - loss: 0.4967 - val_attrition_output_accuracy: 0.8095 - val_attrition_output_loss: 0.5848 - val_department_output_accuracy: 0.6054 - val_department_output_loss: 1.1001 - val_loss: 1.7820\n",
            "Epoch 73/100\n",
            "\u001b[1m37/37\u001b[0m \u001b[32m━━━━━━━━━━━━━━━━━━━━\u001b[0m\u001b[37m\u001b[0m \u001b[1m0s\u001b[0m 6ms/step - attrition_output_accuracy: 0.9466 - attrition_output_loss: 0.1357 - department_output_accuracy: 0.8829 - department_output_loss: 0.3394 - loss: 0.4750 - val_attrition_output_accuracy: 0.7993 - val_attrition_output_loss: 0.6023 - val_department_output_accuracy: 0.5816 - val_department_output_loss: 1.1135 - val_loss: 1.8056\n",
            "Epoch 74/100\n",
            "\u001b[1m37/37\u001b[0m \u001b[32m━━━━━━━━━━━━━━━━━━━━\u001b[0m\u001b[37m\u001b[0m \u001b[1m0s\u001b[0m 7ms/step - attrition_output_accuracy: 0.9671 - attrition_output_loss: 0.1332 - department_output_accuracy: 0.8834 - department_output_loss: 0.3334 - loss: 0.4666 - val_attrition_output_accuracy: 0.8095 - val_attrition_output_loss: 0.5960 - val_department_output_accuracy: 0.5816 - val_department_output_loss: 1.1396 - val_loss: 1.8263\n",
            "Epoch 75/100\n",
            "\u001b[1m37/37\u001b[0m \u001b[32m━━━━━━━━━━━━━━━━━━━━\u001b[0m\u001b[37m\u001b[0m \u001b[1m0s\u001b[0m 6ms/step - attrition_output_accuracy: 0.9649 - attrition_output_loss: 0.1227 - department_output_accuracy: 0.8792 - department_output_loss: 0.3276 - loss: 0.4503 - val_attrition_output_accuracy: 0.8061 - val_attrition_output_loss: 0.6192 - val_department_output_accuracy: 0.6156 - val_department_output_loss: 1.1219 - val_loss: 1.8389\n",
            "Epoch 76/100\n",
            "\u001b[1m37/37\u001b[0m \u001b[32m━━━━━━━━━━━━━━━━━━━━\u001b[0m\u001b[37m\u001b[0m \u001b[1m0s\u001b[0m 7ms/step - attrition_output_accuracy: 0.9538 - attrition_output_loss: 0.1341 - department_output_accuracy: 0.8842 - department_output_loss: 0.3246 - loss: 0.4587 - val_attrition_output_accuracy: 0.8197 - val_attrition_output_loss: 0.6164 - val_department_output_accuracy: 0.5646 - val_department_output_loss: 1.1562 - val_loss: 1.8796\n",
            "Epoch 77/100\n",
            "\u001b[1m37/37\u001b[0m \u001b[32m━━━━━━━━━━━━━━━━━━━━\u001b[0m\u001b[37m\u001b[0m \u001b[1m0s\u001b[0m 6ms/step - attrition_output_accuracy: 0.9503 - attrition_output_loss: 0.1424 - department_output_accuracy: 0.8728 - department_output_loss: 0.3372 - loss: 0.4796 - val_attrition_output_accuracy: 0.8299 - val_attrition_output_loss: 0.6166 - val_department_output_accuracy: 0.5884 - val_department_output_loss: 1.1625 - val_loss: 1.8761\n",
            "Epoch 78/100\n",
            "\u001b[1m37/37\u001b[0m \u001b[32m━━━━━━━━━━━━━━━━━━━━\u001b[0m\u001b[37m\u001b[0m \u001b[1m0s\u001b[0m 8ms/step - attrition_output_accuracy: 0.9603 - attrition_output_loss: 0.1334 - department_output_accuracy: 0.8763 - department_output_loss: 0.3155 - loss: 0.4490 - val_attrition_output_accuracy: 0.8129 - val_attrition_output_loss: 0.6317 - val_department_output_accuracy: 0.5612 - val_department_output_loss: 1.1904 - val_loss: 1.9259\n",
            "Epoch 79/100\n",
            "\u001b[1m37/37\u001b[0m \u001b[32m━━━━━━━━━━━━━━━━━━━━\u001b[0m\u001b[37m\u001b[0m \u001b[1m0s\u001b[0m 6ms/step - attrition_output_accuracy: 0.9587 - attrition_output_loss: 0.1129 - department_output_accuracy: 0.8990 - department_output_loss: 0.2958 - loss: 0.4086 - val_attrition_output_accuracy: 0.8027 - val_attrition_output_loss: 0.6386 - val_department_output_accuracy: 0.5510 - val_department_output_loss: 1.1832 - val_loss: 1.9281\n",
            "Epoch 80/100\n",
            "\u001b[1m37/37\u001b[0m \u001b[32m━━━━━━━━━━━━━━━━━━━━\u001b[0m\u001b[37m\u001b[0m \u001b[1m0s\u001b[0m 9ms/step - attrition_output_accuracy: 0.9620 - attrition_output_loss: 0.1133 - department_output_accuracy: 0.8835 - department_output_loss: 0.3237 - loss: 0.4370 - val_attrition_output_accuracy: 0.8129 - val_attrition_output_loss: 0.6526 - val_department_output_accuracy: 0.5782 - val_department_output_loss: 1.2069 - val_loss: 1.9647\n",
            "Epoch 81/100\n",
            "\u001b[1m37/37\u001b[0m \u001b[32m━━━━━━━━━━━━━━━━━━━━\u001b[0m\u001b[37m\u001b[0m \u001b[1m0s\u001b[0m 6ms/step - attrition_output_accuracy: 0.9624 - attrition_output_loss: 0.1273 - department_output_accuracy: 0.8875 - department_output_loss: 0.3210 - loss: 0.4482 - val_attrition_output_accuracy: 0.7993 - val_attrition_output_loss: 0.6594 - val_department_output_accuracy: 0.5544 - val_department_output_loss: 1.2255 - val_loss: 1.9851\n",
            "Epoch 82/100\n",
            "\u001b[1m37/37\u001b[0m \u001b[32m━━━━━━━━━━━━━━━━━━━━\u001b[0m\u001b[37m\u001b[0m \u001b[1m0s\u001b[0m 6ms/step - attrition_output_accuracy: 0.9580 - attrition_output_loss: 0.1319 - department_output_accuracy: 0.8919 - department_output_loss: 0.3084 - loss: 0.4403 - val_attrition_output_accuracy: 0.8197 - val_attrition_output_loss: 0.6889 - val_department_output_accuracy: 0.5850 - val_department_output_loss: 1.2132 - val_loss: 2.0117\n",
            "Epoch 83/100\n",
            "\u001b[1m37/37\u001b[0m \u001b[32m━━━━━━━━━━━━━━━━━━━━\u001b[0m\u001b[37m\u001b[0m \u001b[1m0s\u001b[0m 6ms/step - attrition_output_accuracy: 0.9610 - attrition_output_loss: 0.1257 - department_output_accuracy: 0.9053 - department_output_loss: 0.2772 - loss: 0.4029 - val_attrition_output_accuracy: 0.7925 - val_attrition_output_loss: 0.6747 - val_department_output_accuracy: 0.5952 - val_department_output_loss: 1.2438 - val_loss: 2.0139\n",
            "Epoch 84/100\n",
            "\u001b[1m37/37\u001b[0m \u001b[32m━━━━━━━━━━━━━━━━━━━━\u001b[0m\u001b[37m\u001b[0m \u001b[1m0s\u001b[0m 6ms/step - attrition_output_accuracy: 0.9673 - attrition_output_loss: 0.1085 - department_output_accuracy: 0.9009 - department_output_loss: 0.3052 - loss: 0.4137 - val_attrition_output_accuracy: 0.8061 - val_attrition_output_loss: 0.6863 - val_department_output_accuracy: 0.6020 - val_department_output_loss: 1.2617 - val_loss: 2.0552\n",
            "Epoch 85/100\n",
            "\u001b[1m37/37\u001b[0m \u001b[32m━━━━━━━━━━━━━━━━━━━━\u001b[0m\u001b[37m\u001b[0m \u001b[1m0s\u001b[0m 7ms/step - attrition_output_accuracy: 0.9764 - attrition_output_loss: 0.0988 - department_output_accuracy: 0.9019 - department_output_loss: 0.2901 - loss: 0.3889 - val_attrition_output_accuracy: 0.7993 - val_attrition_output_loss: 0.7028 - val_department_output_accuracy: 0.5680 - val_department_output_loss: 1.2317 - val_loss: 2.0503\n",
            "Epoch 86/100\n",
            "\u001b[1m37/37\u001b[0m \u001b[32m━━━━━━━━━━━━━━━━━━━━\u001b[0m\u001b[37m\u001b[0m \u001b[1m0s\u001b[0m 7ms/step - attrition_output_accuracy: 0.9671 - attrition_output_loss: 0.1106 - department_output_accuracy: 0.9073 - department_output_loss: 0.2702 - loss: 0.3808 - val_attrition_output_accuracy: 0.7959 - val_attrition_output_loss: 0.7188 - val_department_output_accuracy: 0.5816 - val_department_output_loss: 1.2616 - val_loss: 2.0941\n",
            "Epoch 87/100\n",
            "\u001b[1m37/37\u001b[0m \u001b[32m━━━━━━━━━━━━━━━━━━━━\u001b[0m\u001b[37m\u001b[0m \u001b[1m0s\u001b[0m 6ms/step - attrition_output_accuracy: 0.9746 - attrition_output_loss: 0.0991 - department_output_accuracy: 0.9131 - department_output_loss: 0.2746 - loss: 0.3736 - val_attrition_output_accuracy: 0.7959 - val_attrition_output_loss: 0.7175 - val_department_output_accuracy: 0.5782 - val_department_output_loss: 1.2568 - val_loss: 2.1024\n",
            "Epoch 88/100\n",
            "\u001b[1m37/37\u001b[0m \u001b[32m━━━━━━━━━━━━━━━━━━━━\u001b[0m\u001b[37m\u001b[0m \u001b[1m0s\u001b[0m 9ms/step - attrition_output_accuracy: 0.9724 - attrition_output_loss: 0.0812 - department_output_accuracy: 0.9132 - department_output_loss: 0.2667 - loss: 0.3478 - val_attrition_output_accuracy: 0.7891 - val_attrition_output_loss: 0.7414 - val_department_output_accuracy: 0.5680 - val_department_output_loss: 1.3198 - val_loss: 2.1883\n",
            "Epoch 89/100\n",
            "\u001b[1m37/37\u001b[0m \u001b[32m━━━━━━━━━━━━━━━━━━━━\u001b[0m\u001b[37m\u001b[0m \u001b[1m0s\u001b[0m 7ms/step - attrition_output_accuracy: 0.9763 - attrition_output_loss: 0.0914 - department_output_accuracy: 0.9055 - department_output_loss: 0.2813 - loss: 0.3727 - val_attrition_output_accuracy: 0.8061 - val_attrition_output_loss: 0.7284 - val_department_output_accuracy: 0.5986 - val_department_output_loss: 1.3049 - val_loss: 2.1595\n",
            "Epoch 90/100\n",
            "\u001b[1m37/37\u001b[0m \u001b[32m━━━━━━━━━━━━━━━━━━━━\u001b[0m\u001b[37m\u001b[0m \u001b[1m0s\u001b[0m 6ms/step - attrition_output_accuracy: 0.9767 - attrition_output_loss: 0.1016 - department_output_accuracy: 0.9231 - department_output_loss: 0.2579 - loss: 0.3595 - val_attrition_output_accuracy: 0.7993 - val_attrition_output_loss: 0.7612 - val_department_output_accuracy: 0.5782 - val_department_output_loss: 1.3296 - val_loss: 2.1993\n",
            "Epoch 91/100\n",
            "\u001b[1m37/37\u001b[0m \u001b[32m━━━━━━━━━━━━━━━━━━━━\u001b[0m\u001b[37m\u001b[0m \u001b[1m0s\u001b[0m 6ms/step - attrition_output_accuracy: 0.9719 - attrition_output_loss: 0.0981 - department_output_accuracy: 0.8946 - department_output_loss: 0.2870 - loss: 0.3851 - val_attrition_output_accuracy: 0.7959 - val_attrition_output_loss: 0.7425 - val_department_output_accuracy: 0.5952 - val_department_output_loss: 1.3744 - val_loss: 2.2117\n",
            "Epoch 92/100\n",
            "\u001b[1m37/37\u001b[0m \u001b[32m━━━━━━━━━━━━━━━━━━━━\u001b[0m\u001b[37m\u001b[0m \u001b[1m0s\u001b[0m 7ms/step - attrition_output_accuracy: 0.9764 - attrition_output_loss: 0.0993 - department_output_accuracy: 0.9026 - department_output_loss: 0.2880 - loss: 0.3873 - val_attrition_output_accuracy: 0.8061 - val_attrition_output_loss: 0.7312 - val_department_output_accuracy: 0.5646 - val_department_output_loss: 1.3418 - val_loss: 2.1917\n",
            "Epoch 93/100\n",
            "\u001b[1m37/37\u001b[0m \u001b[32m━━━━━━━━━━━━━━━━━━━━\u001b[0m\u001b[37m\u001b[0m \u001b[1m0s\u001b[0m 6ms/step - attrition_output_accuracy: 0.9791 - attrition_output_loss: 0.0918 - department_output_accuracy: 0.9133 - department_output_loss: 0.2738 - loss: 0.3655 - val_attrition_output_accuracy: 0.7959 - val_attrition_output_loss: 0.7572 - val_department_output_accuracy: 0.5646 - val_department_output_loss: 1.3792 - val_loss: 2.2570\n",
            "Epoch 94/100\n",
            "\u001b[1m37/37\u001b[0m \u001b[32m━━━━━━━━━━━━━━━━━━━━\u001b[0m\u001b[37m\u001b[0m \u001b[1m0s\u001b[0m 6ms/step - attrition_output_accuracy: 0.9688 - attrition_output_loss: 0.0990 - department_output_accuracy: 0.9185 - department_output_loss: 0.2642 - loss: 0.3631 - val_attrition_output_accuracy: 0.7789 - val_attrition_output_loss: 0.7755 - val_department_output_accuracy: 0.5646 - val_department_output_loss: 1.3878 - val_loss: 2.2717\n",
            "Epoch 95/100\n",
            "\u001b[1m37/37\u001b[0m \u001b[32m━━━━━━━━━━━━━━━━━━━━\u001b[0m\u001b[37m\u001b[0m \u001b[1m0s\u001b[0m 6ms/step - attrition_output_accuracy: 0.9854 - attrition_output_loss: 0.0828 - department_output_accuracy: 0.9244 - department_output_loss: 0.2416 - loss: 0.3244 - val_attrition_output_accuracy: 0.7959 - val_attrition_output_loss: 0.7898 - val_department_output_accuracy: 0.5748 - val_department_output_loss: 1.4046 - val_loss: 2.3030\n",
            "Epoch 96/100\n",
            "\u001b[1m37/37\u001b[0m \u001b[32m━━━━━━━━━━━━━━━━━━━━\u001b[0m\u001b[37m\u001b[0m \u001b[1m1s\u001b[0m 7ms/step - attrition_output_accuracy: 0.9786 - attrition_output_loss: 0.0731 - department_output_accuracy: 0.9246 - department_output_loss: 0.2535 - loss: 0.3266 - val_attrition_output_accuracy: 0.7925 - val_attrition_output_loss: 0.8083 - val_department_output_accuracy: 0.5952 - val_department_output_loss: 1.4108 - val_loss: 2.3374\n",
            "Epoch 97/100\n",
            "\u001b[1m37/37\u001b[0m \u001b[32m━━━━━━━━━━━━━━━━━━━━\u001b[0m\u001b[37m\u001b[0m \u001b[1m0s\u001b[0m 6ms/step - attrition_output_accuracy: 0.9809 - attrition_output_loss: 0.0796 - department_output_accuracy: 0.9331 - department_output_loss: 0.2380 - loss: 0.3176 - val_attrition_output_accuracy: 0.7857 - val_attrition_output_loss: 0.8187 - val_department_output_accuracy: 0.5544 - val_department_output_loss: 1.4084 - val_loss: 2.3605\n",
            "Epoch 98/100\n",
            "\u001b[1m37/37\u001b[0m \u001b[32m━━━━━━━━━━━━━━━━━━━━\u001b[0m\u001b[37m\u001b[0m \u001b[1m0s\u001b[0m 6ms/step - attrition_output_accuracy: 0.9790 - attrition_output_loss: 0.0836 - department_output_accuracy: 0.9413 - department_output_loss: 0.2309 - loss: 0.3145 - val_attrition_output_accuracy: 0.7959 - val_attrition_output_loss: 0.8172 - val_department_output_accuracy: 0.5510 - val_department_output_loss: 1.4435 - val_loss: 2.3890\n",
            "Epoch 99/100\n",
            "\u001b[1m37/37\u001b[0m \u001b[32m━━━━━━━━━━━━━━━━━━━━\u001b[0m\u001b[37m\u001b[0m \u001b[1m0s\u001b[0m 6ms/step - attrition_output_accuracy: 0.9845 - attrition_output_loss: 0.0700 - department_output_accuracy: 0.9239 - department_output_loss: 0.2179 - loss: 0.2879 - val_attrition_output_accuracy: 0.7993 - val_attrition_output_loss: 0.8421 - val_department_output_accuracy: 0.6088 - val_department_output_loss: 1.4369 - val_loss: 2.4102\n",
            "Epoch 100/100\n",
            "\u001b[1m37/37\u001b[0m \u001b[32m━━━━━━━━━━━━━━━━━━━━\u001b[0m\u001b[37m\u001b[0m \u001b[1m0s\u001b[0m 7ms/step - attrition_output_accuracy: 0.9804 - attrition_output_loss: 0.0743 - department_output_accuracy: 0.9313 - department_output_loss: 0.2358 - loss: 0.3101 - val_attrition_output_accuracy: 0.7891 - val_attrition_output_loss: 0.8287 - val_department_output_accuracy: 0.5986 - val_department_output_loss: 1.4881 - val_loss: 2.4169\n"
          ]
        }
      ],
      "source": [
        "# Train the model\n",
        "history = model.fit(X_train_scaled, {'department_output': y_train_encoded, 'attrition_output': y_train_attrition_encoded}, epochs=100, \n",
        "                    batch_size=32, \n",
        "                    validation_data=(X_test_scaled, {'department_output': y_test_encoded, 'attrition_output': y_test_attrition_encoded}))\n",
        "\n"
      ]
    },
    {
      "cell_type": "code",
      "execution_count": 75,
      "metadata": {
        "colab": {
          "base_uri": "https://localhost:8080/"
        },
        "id": "VsMoaQlgGc3U",
        "outputId": "1bd4e601-e964-4abc-ad83-aeecf6b696be"
      },
      "outputs": [
        {
          "name": "stdout",
          "output_type": "stream",
          "text": [
            "\u001b[1m10/10\u001b[0m \u001b[32m━━━━━━━━━━━━━━━━━━━━\u001b[0m\u001b[37m\u001b[0m \u001b[1m0s\u001b[0m 17ms/step - attrition_output_accuracy: 0.7734 - attrition_output_loss: 1.0351 - department_output_accuracy: 0.5508 - department_output_loss: 1.7487 - loss: 2.8020\n",
            "[2.4168577194213867, 1.4881377220153809, 0.828650176525116, 0.7891156673431396, 0.5986394286155701]\n",
            "Test Loss: 2.4168577194213867\n",
            "Test Department Output Loss: 1.4881377220153809\n",
            "Test Attrition Output Loss: 0.828650176525116\n"
          ]
        }
      ],
      "source": [
        "# Evaluate the model with the testing data\n",
        "evaluation = model.evaluate(X_test_scaled, {'department_output': y_test_encoded, 'attrition_output': y_test_attrition_encoded}, verbose=1)\n",
        "\n",
        "print(evaluation)\n",
        "\n",
        "test_loss = evaluation[0]\n",
        "department_output_loss = evaluation[1]\n",
        "attrition_output_loss = evaluation[2]\n",
        "\n",
        "print(f\"Test Loss: {test_loss}\")\n",
        "print(f\"Test Department Output Loss: {department_output_loss}\")\n",
        "print(f\"Test Attrition Output Loss: {attrition_output_loss}\")\n"
      ]
    },
    {
      "cell_type": "code",
      "execution_count": 77,
      "metadata": {
        "colab": {
          "base_uri": "https://localhost:8080/"
        },
        "id": "ZlCtlHi0Vt54",
        "outputId": "bc21ef3e-80c2-4b38-9c29-79515bc23dec"
      },
      "outputs": [
        {
          "name": "stdout",
          "output_type": "stream",
          "text": [
            "\u001b[1m10/10\u001b[0m \u001b[32m━━━━━━━━━━━━━━━━━━━━\u001b[0m\u001b[37m\u001b[0m \u001b[1m0s\u001b[0m 13ms/step\n",
            "\u001b[1m10/10\u001b[0m \u001b[32m━━━━━━━━━━━━━━━━━━━━\u001b[0m\u001b[37m\u001b[0m \u001b[1m0s\u001b[0m 4ms/step \n",
            "Test Department Output Accuracy: 0.5986394557823129\n",
            "Test Attrition Output Accuracy: 0.7891156462585034\n"
          ]
        }
      ],
      "source": [
        "# Print the accuracy for both department and attrition\n",
        "department_pred = model.predict(X_test_scaled)[0]\n",
        "department_accuracy = np.mean(np.argmax(department_pred, axis=1) == np.argmax(y_test_encoded, axis=1))\n",
        "\n",
        "attrition_pred = model.predict(X_test_scaled)[1]\n",
        "attrition_accuracy = np.mean(np.argmax(attrition_pred, axis=1) == np.argmax(y_test_attrition_encoded, axis=1))\n",
        "\n",
        "print(f\"Test Department Output Accuracy: {department_accuracy}\")\n",
        "print(f\"Test Attrition Output Accuracy: {attrition_accuracy}\")"
      ]
    },
    {
      "cell_type": "markdown",
      "metadata": {
        "id": "eGSyfsZfWOQM"
      },
      "source": [
        "# Summary\n",
        "\n",
        "In the provided space below, briefly answer the following questions.\n",
        "\n",
        "1. Is accuracy the best metric to use on this data? Why or why not?\n",
        "\n",
        "2. What activation functions did you choose for your output layers, and why?\n",
        "\n",
        "3. Can you name a few ways that this model might be improved?"
      ]
    },
    {
      "cell_type": "markdown",
      "metadata": {
        "id": "pi9SLpFnWvbF"
      },
      "source": [
        "YOUR ANSWERS HERE\n",
        "\n",
        "1. **Is accuracy the best metric to use on this data? Why or why not?**\n",
        "\n",
        "Accuracy is **not** the best metric to use on this data, as it not account for class imbalances. For example, if attrition (the number of employees who leave) at the company is significantly lower than those who stay, then accuracy could be misleading. Precision, recall, and F1-score can provide more insight into the model's performance, especially for minority classes. They offer a more comprehensive view of the model's effectiveness by considering the true positive, false positive, and false negative rates.  Therefore, accuracy is not the best metric.\n",
        "2. **What activation functions did you choose for your output layers, and why?**\n",
        "We chose softmax for both department_output and attrition_output. Softmax is used for multi-class classification in the department_output to ensure the outputs total to 1, and represent probabilities for each class. For attrition_output, although it’s a binary classification, softmax is used to get probabilities of each class (Yes/No). This allows us to interpret the outputs as the likelihood of each class, facilitating better decision-making based on predicted probabilities.\n",
        "3. **Can you name a few ways that this model might be improved?**\n",
        "\n",
        "* **More Data:** Increase the amount of training data to improve model generalization. collaborating with other sources for additional data can help the model learn better.\n",
        "\n",
        "* **Feature Engineering:** Add or modify features to provide better input data. For example, create new features like the ratio of total working years to years at the company, or encode tenure in months rather than years.\n",
        "\n",
        "* **Hyperparameter Tuning:** Adjust learning rates, batch sizes, and the number of neurons/layers. Try different values for these parameters to find the best combination that improves model performance.\n",
        "\n",
        "* **Regularization:** Implement dropout or L2 regularization to prevent overfitting. Dropout randomly ignores some neurons during training to make the model more robust, while L2 regularization adds a penalty for large weights.\n",
        "\n",
        "* **Different Architectures:** Experiment with different neural network architectures or other machine learning models. For example, try using convolutional neural networks (CNNs) for feature extraction or ensemble methods like random forests and gradient boosting for improved accuracy."
      ]
    },
    {
      "cell_type": "markdown",
      "metadata": {},
      "source": []
    }
  ],
  "metadata": {
    "colab": {
      "provenance": []
    },
    "kernelspec": {
      "display_name": "dev",
      "language": "python",
      "name": "python3"
    },
    "language_info": {
      "codemirror_mode": {
        "name": "ipython",
        "version": 3
      },
      "file_extension": ".py",
      "mimetype": "text/x-python",
      "name": "python",
      "nbconvert_exporter": "python",
      "pygments_lexer": "ipython3",
      "version": "3.12.4"
    }
  },
  "nbformat": 4,
  "nbformat_minor": 0
}
